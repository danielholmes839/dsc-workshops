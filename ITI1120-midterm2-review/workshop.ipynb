{
 "cells": [
  {
   "cell_type": "markdown",
   "id": "painful-midnight",
   "metadata": {},
   "source": [
    "## Question 1\n",
    "\n",
    "The function returns a new list where for every pair of consecutive elements in `l`\n",
    "if both are odd or both are even then the sum of the two elements is added to the new list\n",
    "otherwise zero is added to the new list. For example, in a list l=[1, 7, 5, 4, 12],\n",
    "1 and 7 are both odd, so we add their sum, 8, to the new list\n",
    "7 and 5 are both odd, so we add their sum, 12, to the list\n",
    "5 and 4 are neither both odd nor both even, so we add zero to the list\n",
    "4 and 12 are both even, so we add their sum, 16,  to the list.\n",
    "Thus the function returns the list [8, 12, 0, 16]\n",
    "\n",
    "If l has at most 1 element, then a copy of list l is returned\n",
    "\n",
    "```python\n",
    "list_work([1, 7, 5, 4, 12, -33, 6])\n",
    "[8, 12, 0, 16, 0, 0]\n",
    "\n",
    "list_work([1])\n",
    "[1]\n",
    "\n",
    "list_work([])\n",
    "[]\n",
    "\n",
    "list_work([1,2,3,4,5])\n",
    "[0, 0, 0, 0]\n",
    "\n",
    "list_work([100,20,30])\n",
    "[120, 50]\n",
    "```"
   ]
  },
  {
   "cell_type": "code",
   "execution_count": 1,
   "id": "automotive-laser",
   "metadata": {},
   "outputs": [],
   "source": [
    "def list_work(l):\n",
    "    pass\n",
    "\n",
    "list_work([1, 7, 5, 4, 12, -33, 6])"
   ]
  },
  {
   "cell_type": "markdown",
   "id": "breathing-institute",
   "metadata": {},
   "source": [
    "## Question 2\n",
    "\n",
    "*Originally question 3 from last workshop*\n",
    "\n",
    "Precondition: s string that looks like a sequence in integers where\n",
    "every pair of consecutive integers is separated by a comma and space or just a space\n",
    "\n",
    "More preconditions: s has at least one substring that looks like an integer\n",
    "\n",
    "Returns a list of integers from s\n",
    "\n",
    "```\n",
    "get_list_ofint(\"10 22, 7 0 -5, 1\")\n",
    "[10, 22, 7, 0, -5, 1]\n",
    "\n",
    "get_list_ofint(\"231, -5, 12\")\n",
    "[231, -5, 12]\n",
    "\n",
    "get_list_ofint(\"231 -5 -7\")\n",
    "[231, -5, -7]\n",
    "\n",
    "get_list_ofint(\"-7,\")\n",
    "[-7]\n",
    "```"
   ]
  },
  {
   "cell_type": "code",
   "execution_count": 2,
   "id": "secure-fraud",
   "metadata": {},
   "outputs": [],
   "source": [
    "def get_list_ofint(s):  # 5 points\n",
    "    pass"
   ]
  },
  {
   "cell_type": "code",
   "execution_count": 3,
   "id": "dated-franklin",
   "metadata": {},
   "outputs": [],
   "source": [
    "get_list_ofint(\"10 22, 7 0 -5, 1\")"
   ]
  },
  {
   "cell_type": "markdown",
   "id": "primary-landing",
   "metadata": {},
   "source": [
    "## Question 3 (Multiple Choice)\n",
    "\n",
    "Imagine this program is running and it is about the print \"bye dragonfly\".\n",
    "Which of the follow is true about variables `x`, `y` and `z`\n",
    "\n",
    "**Part 1.**\n",
    "\n",
    "A) all three variables `x`, `y` and `z` refer to a same object\n",
    "\n",
    "B) `x` and `y` refer to a same object and `z` to a different object\n",
    "\n",
    "C) `x` and `z` refer to a same object and `y` to a different object\n",
    "\n",
    "D) `y` and `z` refer to a same object and `x` to a different object\n",
    "\n",
    "E) the 3 variables refer to three distinct objects\n",
    "\n",
    "**Part 2.**\n",
    "\n",
    "Imagine this program is running and it is about the print \"bye dragonfly\".\n",
    "Which of the follow is true about variables `a` and `b`\n",
    "\n",
    "A) both `a` and `b` refer to a same object\n",
    "\n",
    "B) `a` and `b` refer to two distinct objects\n",
    "\n",
    "```python\n",
    "def dragonfly(y, b):\n",
    "    y[1]=0\n",
    "    b=700\n",
    "    z=y\n",
    "    z[0]=1000\n",
    "    print(\"bye dragonfly\")\n",
    "    \n",
    "x=[1,2,3]\n",
    "a=200\n",
    "dragonfly(x,a)\n",
    "```"
   ]
  },
  {
   "cell_type": "markdown",
   "id": "alive-nation",
   "metadata": {},
   "source": [
    "## Question 4 (Multiple Choice)\n",
    "Imagine you replaced n in the second range function with number 10.\n",
    "\n",
    "What is the running-time of function mantis with that change?\n",
    "\n",
    "A) O(1)\n",
    "\n",
    "B) O(log n)\n",
    "\n",
    "C) O(n)\n",
    "\n",
    "D) O(n*log n)\n",
    "\n",
    "E) O(n^2)\n",
    "\n",
    "```python\n",
    "def mantis(L):\n",
    "    '''(list of int)->None'''\n",
    "    n=len(L)\n",
    "    for i in range(n):\n",
    "        L[i]=L[i]**2\n",
    "    print(\"Elements of L are:\")\n",
    "    for i in range(n):\n",
    "        print(L[i])\n",
    "```"
   ]
  },
  {
   "cell_type": "markdown",
   "id": "incredible-shaft",
   "metadata": {},
   "source": [
    "## Question 5"
   ]
  },
  {
   "cell_type": "code",
   "execution_count": 4,
   "id": "plastic-argument",
   "metadata": {},
   "outputs": [],
   "source": [
    "def diff_start_end(l, q):\n",
    "    \"\"\"\n",
    "    l and q are two parallel lists i.e. len(l)==len(q)\n",
    "    The function returns the following two integers (i.e. a tuple with\n",
    "    the following two integers).\n",
    "      - the index where l and q first differ, and\n",
    "      - the index where l and q last differ. This index should be NEGATIVE\n",
    "\n",
    "    Preconditions: len(l)==len(q)>=1, and l != q\n",
    "\n",
    "    >>> diff_start_end([0,1,6,0,7,2,3,4], [0,1,8,0,9,2,3,4])\n",
    "    (2, -4)\n",
    "    >>> diff_start_end([6],[8])\n",
    "    (0, -1)\n",
    "    >>> diff_start_end([0,0,0,1,0],[0,0,0,22,0])\n",
    "    (3, -2)\n",
    "    >>> diff_start_end([0,1,1],[1,1,1])\n",
    "    (0, -3)\n",
    "    >>> diff_start_end([0,1,1,0],[0,0,0,0])\n",
    "    (1, -2)\n",
    "    \"\"\"\n",
    "    pass"
   ]
  },
  {
   "cell_type": "code",
   "execution_count": 5,
   "id": "indoor-empty",
   "metadata": {},
   "outputs": [],
   "source": [
    "diff_start_end([0,1,6,0,7,2,3,4], [0,1,8,0,9,2,3,4])"
   ]
  },
  {
   "cell_type": "code",
   "execution_count": 6,
   "id": "acceptable-treat",
   "metadata": {},
   "outputs": [],
   "source": [
    "diff_start_end([6],[8])"
   ]
  },
  {
   "cell_type": "code",
   "execution_count": 7,
   "id": "opposed-kitty",
   "metadata": {},
   "outputs": [],
   "source": [
    "diff_start_end([0,0,0,1,0],[0,0,0,22,0])"
   ]
  },
  {
   "cell_type": "code",
   "execution_count": 8,
   "id": "empty-contents",
   "metadata": {},
   "outputs": [],
   "source": [
    "diff_start_end([0,1,1],[1,1,1])"
   ]
  },
  {
   "cell_type": "code",
   "execution_count": 9,
   "id": "lucky-citizenship",
   "metadata": {},
   "outputs": [],
   "source": [
    "diff_start_end([0,1,1,0],[0,0,0,0])"
   ]
  },
  {
   "cell_type": "markdown",
   "id": "controlling-oxygen",
   "metadata": {},
   "source": [
    "## Question 6"
   ]
  },
  {
   "cell_type": "code",
   "execution_count": 10,
   "id": "challenging-works",
   "metadata": {},
   "outputs": [],
   "source": [
    "def make_teams(players, num_teams):\n",
    "    '''(list of str, int)->2D list \n",
    "    Make num_teams teams out of the players in list players by counting off.\n",
    "    Players is a list of players' names and num_teams is the desired number of teams\n",
    "    Return a 2D list where each sublist is representing a team.\n",
    "    Preconditions: num_teams>= 1\n",
    "\n",
    "    >>> make_teams([\"pele\", \"maradona\", \"serena\", \"venus\", \"fed\", \"rafa\", \"lionel\"], 3)\n",
    "    [['pele', 'venus', 'lionel'], ['maradona', 'fed'], ['serena', 'rafa']]\n",
    "    >>> make_teams([\"pele\", \"maradona\", \"serena\", \"venus\", \"fed\", \"rafa\", \"lionel\"], 2)\n",
    "    [['pele', 'serena', 'fed', 'lionel'], ['maradona', 'venus', 'rafa']]\n",
    "    >>> make_teams([\"1\", \"2\", \"3\", \"4\", \"5\", \"6\", \"7\", \"8\", \"9\"], 3)\n",
    "    [['1', '4', '7'], ['2', '5', '8'], ['3', '6', '9']]\n",
    "    >>> make_teams([\"1\", \"2\", \"3\", \"4\", \"5\", \"6\", \"7\", \"8\", \"9\"], 1)\n",
    "    [['1', '2', '3', '4', '5', '6', '7', '8', '9']]\n",
    "    >>> make_teams([\"1\", \"2\", \"3\", \"4\", \"5\", \"6\", \"7\", \"8\", \"9\"], 4)\n",
    "    [['1', '5', '9'], ['2', '6'], ['3', '7'], ['4', '8']]\n",
    "    >>> make_teams([\"1\", \"2\", \"3\", \"4\", \"5\", \"6\", \"7\", \"8\", \"9\"], 7)\n",
    "    [['1', '8'], ['2', '9'], ['3'], ['4'], ['5'], ['6'], ['7']]\n",
    "    >>> make_teams([\"1\", \"2\", \"3\", \"4\", \"5\", \"6\", \"7\", \"8\", \"9\"], 11)\n",
    "    [['1'], ['2'], ['3'], ['4'], ['5'], ['6'], ['7'], ['8'], ['9'], [], []]\n",
    "    >>> make_teams( [] , 3)\n",
    "    [[], [], []]\n",
    "    '''\n",
    "    pass"
   ]
  },
  {
   "cell_type": "markdown",
   "id": "vital-pendant",
   "metadata": {},
   "source": [
    "# Question 7"
   ]
  },
  {
   "cell_type": "code",
   "execution_count": 11,
   "id": "divine-father",
   "metadata": {},
   "outputs": [],
   "source": [
    "def draw_w_stars(n):\n",
    "    \"\"\"\n",
    "    Write a function to that outputs the following patterns:\n",
    "    \n",
    "    n=7\n",
    "    *******\n",
    "     *****\n",
    "      ***\n",
    "       *\n",
    "       \n",
    "    n=8\n",
    "    ********\n",
    "     ******\n",
    "      ****\n",
    "       **\n",
    "       \n",
    "    n is any positive integer\n",
    "    \"\"\"\n",
    "    pass"
   ]
  },
  {
   "cell_type": "code",
   "execution_count": 12,
   "id": "selective-couple",
   "metadata": {},
   "outputs": [],
   "source": [
    "draw_w_stars(7)"
   ]
  },
  {
   "cell_type": "code",
   "execution_count": 13,
   "id": "herbal-worth",
   "metadata": {},
   "outputs": [],
   "source": [
    "draw_w_stars(8)"
   ]
  },
  {
   "cell_type": "code",
   "execution_count": 14,
   "id": "automatic-purchase",
   "metadata": {},
   "outputs": [],
   "source": [
    "draw_w_stars(1)"
   ]
  },
  {
   "cell_type": "code",
   "execution_count": null,
   "id": "small-replication",
   "metadata": {},
   "outputs": [],
   "source": []
  }
 ],
 "metadata": {
  "kernelspec": {
   "display_name": "Python 3",
   "language": "python",
   "name": "python3"
  },
  "language_info": {
   "codemirror_mode": {
    "name": "ipython",
    "version": 3
   },
   "file_extension": ".py",
   "mimetype": "text/x-python",
   "name": "python",
   "nbconvert_exporter": "python",
   "pygments_lexer": "ipython3",
   "version": "3.8.8"
  }
 },
 "nbformat": 4,
 "nbformat_minor": 5
}
