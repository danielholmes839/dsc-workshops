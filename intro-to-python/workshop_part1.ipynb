{
 "cells": [
  {
   "cell_type": "markdown",
   "id": "general-disposal",
   "metadata": {},
   "source": [
    "# **Google DSC Python Workshop!**\n",
    "\n",
    "## Part 1\n",
    "- Input/output\n",
    "- Variables\n",
    "- Arithmetic operators\n",
    "- Relational operators\n",
    "- Boolean operators\n",
    "- String operators\n",
    "- If/else\n",
    "- **Practice Problem #1**"
   ]
  },
  {
   "cell_type": "code",
   "execution_count": null,
   "id": "efficient-enterprise",
   "metadata": {},
   "outputs": [],
   "source": [
    "print(\"Hello World!\")"
   ]
  },
  {
   "cell_type": "code",
   "execution_count": null,
   "id": "analyzed-premises",
   "metadata": {},
   "outputs": [],
   "source": [
    "name = input(\"Please enter your name: \")\n",
    "print(\"Hello \" + name + \"!\")"
   ]
  },
  {
   "cell_type": "markdown",
   "id": "postal-stable",
   "metadata": {},
   "source": [
    "## Variables"
   ]
  },
  {
   "cell_type": "code",
   "execution_count": null,
   "id": "simple-silly",
   "metadata": {},
   "outputs": [],
   "source": [
    "a = 5 # Integers ... -2, -1, 0, 1, 2, 3 ..."
   ]
  },
  {
   "cell_type": "code",
   "execution_count": null,
   "id": "structured-public",
   "metadata": {},
   "outputs": [],
   "source": [
    "5 = a # This does not work!"
   ]
  },
  {
   "cell_type": "code",
   "execution_count": null,
   "id": "lyric-plain",
   "metadata": {},
   "outputs": [],
   "source": [
    "a = 1\n",
    "b = 2\n",
    "a + b"
   ]
  },
  {
   "cell_type": "markdown",
   "id": "placed-museum",
   "metadata": {},
   "source": [
    "## Arithmetic Operations"
   ]
  },
  {
   "cell_type": "code",
   "execution_count": null,
   "id": "trying-textbook",
   "metadata": {},
   "outputs": [],
   "source": [
    "# Addition\n",
    "5 + 1"
   ]
  },
  {
   "cell_type": "code",
   "execution_count": null,
   "id": "pediatric-slovak",
   "metadata": {},
   "outputs": [],
   "source": [
    "# Subtraction\n",
    "5 - 1"
   ]
  },
  {
   "cell_type": "code",
   "execution_count": null,
   "id": "guided-treasury",
   "metadata": {},
   "outputs": [],
   "source": [
    "# Multiplication\n",
    "5 * 3"
   ]
  },
  {
   "cell_type": "code",
   "execution_count": null,
   "id": "numeric-master",
   "metadata": {},
   "outputs": [],
   "source": [
    "# *Integer* division\n",
    "8 // 3"
   ]
  },
  {
   "cell_type": "code",
   "execution_count": null,
   "id": "defined-narrative",
   "metadata": {},
   "outputs": [],
   "source": [
    "# Regular division\n",
    "8 / 3 "
   ]
  },
  {
   "cell_type": "code",
   "execution_count": null,
   "id": "promising-procurement",
   "metadata": {},
   "outputs": [],
   "source": [
    "# Remainder\n",
    "9 % 2"
   ]
  },
  {
   "cell_type": "code",
   "execution_count": null,
   "id": "blank-progress",
   "metadata": {},
   "outputs": [],
   "source": [
    "# 2^8 exponents\n",
    "2**8"
   ]
  },
  {
   "cell_type": "code",
   "execution_count": null,
   "id": "antique-brave",
   "metadata": {},
   "outputs": [],
   "source": [
    "a = 1\n",
    "a += 1 # Increment -= /= *= //=\n",
    "a"
   ]
  },
  {
   "cell_type": "code",
   "execution_count": null,
   "id": "soviet-hierarchy",
   "metadata": {},
   "outputs": [],
   "source": [
    "a -= 1\n",
    "a"
   ]
  },
  {
   "cell_type": "markdown",
   "id": "focal-screw",
   "metadata": {},
   "source": [
    "## Relational Operators"
   ]
  },
  {
   "cell_type": "code",
   "execution_count": null,
   "id": "worldwide-oxide",
   "metadata": {},
   "outputs": [],
   "source": [
    "1 > 2 # 1 is greater than 2"
   ]
  },
  {
   "cell_type": "code",
   "execution_count": null,
   "id": "closed-advice",
   "metadata": {},
   "outputs": [],
   "source": [
    "1 < 2 # 1 is less than 2"
   ]
  },
  {
   "cell_type": "code",
   "execution_count": null,
   "id": "defensive-arthritis",
   "metadata": {},
   "outputs": [],
   "source": [
    "1 == 1 # 1 is equal to 1. == not ="
   ]
  },
  {
   "cell_type": "code",
   "execution_count": null,
   "id": "opposite-cotton",
   "metadata": {},
   "outputs": [],
   "source": [
    "1 != 1 # 1 is not equal to 1."
   ]
  },
  {
   "cell_type": "code",
   "execution_count": null,
   "id": "flying-mountain",
   "metadata": {},
   "outputs": [],
   "source": [
    "# Less than or equal to, Greater than or equal to\n",
    "1 <= 2, 1 <= 1, 1 >= 2, 1 >= 1"
   ]
  },
  {
   "cell_type": "markdown",
   "id": "norwegian-moldova",
   "metadata": {},
   "source": [
    "## Boolean Operators"
   ]
  },
  {
   "cell_type": "code",
   "execution_count": 1,
   "id": "thorough-french",
   "metadata": {},
   "outputs": [
    {
     "data": {
      "text/plain": [
       "(True, False)"
      ]
     },
     "execution_count": 1,
     "metadata": {},
     "output_type": "execute_result"
    }
   ],
   "source": [
    "True, False # Boolean values"
   ]
  },
  {
   "cell_type": "code",
   "execution_count": 2,
   "id": "mysterious-launch",
   "metadata": {},
   "outputs": [
    {
     "name": "stdout",
     "output_type": "stream",
     "text": [
      "False\n",
      "False\n",
      "False\n",
      "True\n"
     ]
    }
   ],
   "source": [
    "# And\n",
    "print(False and False) \n",
    "print(False and True)\n",
    "print(True and False) \n",
    "print(True and True)"
   ]
  },
  {
   "cell_type": "code",
   "execution_count": 3,
   "id": "registered-remark",
   "metadata": {},
   "outputs": [
    {
     "name": "stdout",
     "output_type": "stream",
     "text": [
      "False\n",
      "True\n",
      "True\n",
      "True\n"
     ]
    }
   ],
   "source": [
    "# Or\n",
    "print(False or False) \n",
    "print(False or True)\n",
    "print(True or False) \n",
    "print(True or True)"
   ]
  },
  {
   "cell_type": "code",
   "execution_count": 4,
   "id": "retained-oxide",
   "metadata": {},
   "outputs": [
    {
     "name": "stdout",
     "output_type": "stream",
     "text": [
      "True\n",
      "False\n"
     ]
    }
   ],
   "source": [
    "# Not\n",
    "print(not False)\n",
    "print(not True)"
   ]
  },
  {
   "cell_type": "markdown",
   "id": "loved-sussex",
   "metadata": {},
   "source": [
    "## String Operations"
   ]
  },
  {
   "cell_type": "code",
   "execution_count": 5,
   "id": "prompt-sailing",
   "metadata": {},
   "outputs": [
    {
     "data": {
      "text/plain": [
       "'hello world'"
      ]
     },
     "execution_count": 5,
     "metadata": {},
     "output_type": "execute_result"
    }
   ],
   "source": [
    "\"hello\" + \" world\""
   ]
  },
  {
   "cell_type": "code",
   "execution_count": 6,
   "id": "flush-dancing",
   "metadata": {},
   "outputs": [
    {
     "data": {
      "text/plain": [
       "['a', 'b', 'c', 'd']"
      ]
     },
     "execution_count": 6,
     "metadata": {},
     "output_type": "execute_result"
    }
   ],
   "source": [
    "\"a,b,c,d\".split(\",\")"
   ]
  },
  {
   "cell_type": "code",
   "execution_count": 7,
   "id": "completed-transfer",
   "metadata": {},
   "outputs": [
    {
     "data": {
      "text/plain": [
       "4"
      ]
     },
     "execution_count": 7,
     "metadata": {},
     "output_type": "execute_result"
    }
   ],
   "source": [
    "len(\"1234\")"
   ]
  },
  {
   "cell_type": "code",
   "execution_count": 14,
   "id": "liberal-farming",
   "metadata": {},
   "outputs": [
    {
     "data": {
      "text/plain": [
       "'inserting 3.6 a 3.6 variable 3.6'"
      ]
     },
     "execution_count": 14,
     "metadata": {},
     "output_type": "execute_result"
    }
   ],
   "source": [
    "x = 3.6\n",
    "f\"inserting {x} a {x} variable {x}\""
   ]
  },
  {
   "cell_type": "code",
   "execution_count": 11,
   "id": "distant-checklist",
   "metadata": {},
   "outputs": [
    {
     "data": {
      "text/plain": [
       "'inserting an expression 4.666666666666667'"
      ]
     },
     "execution_count": 11,
     "metadata": {},
     "output_type": "execute_result"
    }
   ],
   "source": [
    "f\"inserting an expression {1 + 2 + 5 / 3}\""
   ]
  },
  {
   "cell_type": "code",
   "execution_count": 12,
   "id": "right-right",
   "metadata": {},
   "outputs": [
    {
     "data": {
      "text/plain": [
       "'999999999'"
      ]
     },
     "execution_count": 12,
     "metadata": {},
     "output_type": "execute_result"
    }
   ],
   "source": [
    "\"9\"*9"
   ]
  },
  {
   "cell_type": "code",
   "execution_count": 13,
   "id": "italic-myrtle",
   "metadata": {},
   "outputs": [
    {
     "name": "stdout",
     "output_type": "stream",
     "text": [
      "something\n"
     ]
    },
    {
     "name": "stdin",
     "output_type": "stream",
     "text": [
      "input something! test\n"
     ]
    },
    {
     "name": "stdout",
     "output_type": "stream",
     "text": [
      "test\n"
     ]
    }
   ],
   "source": [
    "print(\"something\")\n",
    "print(input(\"input something!\"))"
   ]
  },
  {
   "cell_type": "markdown",
   "id": "cubic-basket",
   "metadata": {},
   "source": [
    "## If / elif (else if) / else"
   ]
  },
  {
   "cell_type": "code",
   "execution_count": 17,
   "id": "conscious-communications",
   "metadata": {},
   "outputs": [
    {
     "name": "stdout",
     "output_type": "stream",
     "text": [
      "The condition was false!\n"
     ]
    }
   ],
   "source": [
    "condition = False\n",
    "\n",
    "if condition:\n",
    "    print(\"The condition was true!\")\n",
    "else:\n",
    "    print(\"The condition was false!\")"
   ]
  },
  {
   "cell_type": "code",
   "execution_count": 27,
   "id": "changing-meter",
   "metadata": {},
   "outputs": [],
   "source": [
    "def example(condition1, condition2):\n",
    "    if not condition1:\n",
    "        print(\"condition 1 was true!\")\n",
    "    elif condition2 == True:\n",
    "        print(\"condition 2 was true! (and condition 1 was false)\")\n",
    "    else:\n",
    "        print(\"no conditions were true\")"
   ]
  },
  {
   "cell_type": "code",
   "execution_count": 20,
   "id": "imperial-authorization",
   "metadata": {},
   "outputs": [
    {
     "name": "stdout",
     "output_type": "stream",
     "text": [
      "condition 1 was true!\n"
     ]
    }
   ],
   "source": [
    "example(True, False)"
   ]
  },
  {
   "cell_type": "code",
   "execution_count": 21,
   "id": "indie-transcription",
   "metadata": {},
   "outputs": [
    {
     "name": "stdout",
     "output_type": "stream",
     "text": [
      "condition 2 was true! (and condition 1 was false)\n"
     ]
    }
   ],
   "source": [
    "example(False, True)"
   ]
  },
  {
   "cell_type": "code",
   "execution_count": 22,
   "id": "sound-poker",
   "metadata": {},
   "outputs": [
    {
     "name": "stdout",
     "output_type": "stream",
     "text": [
      "condition 1 was true!\n"
     ]
    }
   ],
   "source": [
    "example(True, True) # Do both conditions execute?"
   ]
  },
  {
   "cell_type": "code",
   "execution_count": 23,
   "id": "ceramic-relevance",
   "metadata": {},
   "outputs": [
    {
     "name": "stdout",
     "output_type": "stream",
     "text": [
      "no conditions were true\n"
     ]
    }
   ],
   "source": [
    "example(False, False)"
   ]
  },
  {
   "cell_type": "code",
   "execution_count": null,
   "id": "improving-feedback",
   "metadata": {},
   "outputs": [],
   "source": [
    "def pizza_calculator(people, slices_per_person, slices_per_pizza):\n",
    "    \"\"\" Problem #1: Pizza Calculator \n",
    "    \n",
    "    Given the the number of people eating pizza, the number of slices each person will eat, and the number of slices in each pizza.\n",
    "    \n",
    "    How many pizzas do you need to order?\n",
    "    \n",
    "    --------------------------\n",
    "    Example 1: pizza_calculator(6, 2, 8)\n",
    "        people = 6\n",
    "        slices_per_person = 2\n",
    "        slices_per_pizza = 8\n",
    "\n",
    "        answer = 2\n",
    "    \n",
    "    ---------------------------\n",
    "    Example 2: pizza_calculator(4, 2, 8)\n",
    "        people = 4\n",
    "        slices_per_person = 2\n",
    "        slices_per_pizza = 8\n",
    "\n",
    "        answer = 1\n",
    "    \"\"\"\n",
    "    \n",
    "    return 1\n",
    "\n",
    "\n",
    "pizza_calculator(1, 2, 2)"
   ]
  },
  {
   "cell_type": "code",
   "execution_count": 30,
   "id": "removable-cement",
   "metadata": {},
   "outputs": [
    {
     "name": "stdout",
     "output_type": "stream",
     "text": [
      "something else\n"
     ]
    }
   ],
   "source": [
    "a = \"something else\"\n",
    "\n",
    "if type(a) == int:\n",
    "    print(\"it's an int\")\n",
    "else:\n",
    "    print(a)"
   ]
  },
  {
   "cell_type": "code",
   "execution_count": 32,
   "id": "quiet-graphics",
   "metadata": {},
   "outputs": [
    {
     "data": {
      "text/plain": [
       "0.6666666666666666"
      ]
     },
     "execution_count": 32,
     "metadata": {},
     "output_type": "execute_result"
    }
   ],
   "source": [
    "def pizza_calculator(a,b,c):\n",
    "     return (a*b)/c\n"
   ]
  },
  {
   "cell_type": "code",
   "execution_count": 38,
   "id": "standing-modeling",
   "metadata": {},
   "outputs": [
    {
     "name": "stdout",
     "output_type": "stream",
     "text": [
      "3\n"
     ]
    }
   ],
   "source": [
    "def pizza(ppl, slicePerPerson,sliceInPizza):\n",
    "    slices_total = ppl*slicePerPerson\n",
    "    if slices_total<=sliceInPizza:\n",
    "        print(\"1\")\n",
    "    else:\n",
    "        if (slices_total) % sliceInPizza == 0:\n",
    "            print(((slices_total)//sliceInPizza))\n",
    "        else:\n",
    "            print(((slices_total)//sliceInPizza)+1)\n",
    "\n",
    "pizza(4, 2, 3)\n"
   ]
  },
  {
   "cell_type": "code",
   "execution_count": null,
   "id": "bored-interaction",
   "metadata": {},
   "outputs": [],
   "source": [
    "def pizza_calculator(people, slices_per_person, slices_per_pizza):\n",
    "    \"\"\" Pizza calculator solution \"\"\"\n",
    "    slices_required = people * slices_per_person\n",
    "    pizzas = slices_required // slices_per_pizza\n",
    "    \n",
    "    if slices_required % slices_per_pizza != 0:\n",
    "        return pizzas + 1\n",
    "    \n",
    "    return pizzas"
   ]
  }
 ],
 "metadata": {
  "kernelspec": {
   "display_name": "Python 3",
   "language": "python",
   "name": "python3"
  },
  "language_info": {
   "codemirror_mode": {
    "name": "ipython",
    "version": 3
   },
   "file_extension": ".py",
   "mimetype": "text/x-python",
   "name": "python",
   "nbconvert_exporter": "python",
   "pygments_lexer": "ipython3",
   "version": "3.8.8"
  }
 },
 "nbformat": 4,
 "nbformat_minor": 5
}
