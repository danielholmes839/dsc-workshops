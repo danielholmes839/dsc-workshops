{
 "cells": [
  {
   "cell_type": "markdown",
   "id": "fallen-trout",
   "metadata": {},
   "source": [
    "# **Google DSC Intro to Python Workshop**\n",
    "\n",
    "## Part 2\n",
    "- for loop\n",
    "- while loops\n",
    "- lists\n",
    "- more on functions\n",
    "- **Practice Problems!**"
   ]
  },
  {
   "cell_type": "markdown",
   "id": "western-bridges",
   "metadata": {},
   "source": [
    "# For Loops"
   ]
  },
  {
   "cell_type": "code",
   "execution_count": 83,
   "id": "differential-framing",
   "metadata": {},
   "outputs": [
    {
     "name": "stdout",
     "output_type": "stream",
     "text": [
      "0\n",
      "1\n",
      "2\n",
      "3\n",
      "4\n"
     ]
    }
   ],
   "source": [
    "# Example #1\n",
    "for i in range(5):\n",
    "    print(i)"
   ]
  },
  {
   "cell_type": "code",
   "execution_count": 87,
   "id": "administrative-proxy",
   "metadata": {},
   "outputs": [
    {
     "name": "stdout",
     "output_type": "stream",
     "text": [
      "3\n",
      "4\n"
     ]
    }
   ],
   "source": [
    "# Example #2\n",
    "for i in range(3, 5):\n",
    "    print(i)"
   ]
  },
  {
   "cell_type": "code",
   "execution_count": 85,
   "id": "affected-nightlife",
   "metadata": {},
   "outputs": [
    {
     "name": "stdout",
     "output_type": "stream",
     "text": [
      "0\n",
      "5\n",
      "10\n",
      "15\n",
      "20\n"
     ]
    }
   ],
   "source": [
    "# Example #3\n",
    "for i in range(0, 25, 5):\n",
    "    print(i)"
   ]
  },
  {
   "cell_type": "markdown",
   "id": "global-liverpool",
   "metadata": {},
   "source": [
    "## While Loops"
   ]
  },
  {
   "cell_type": "code",
   "execution_count": 1,
   "id": "preliminary-graduate",
   "metadata": {},
   "outputs": [
    {
     "name": "stdout",
     "output_type": "stream",
     "text": [
      "0\n",
      "1\n",
      "2\n",
      "3\n",
      "4\n"
     ]
    }
   ],
   "source": [
    "# Example #1\n",
    "counter = 0\n",
    "\n",
    "while counter < 5:\n",
    "    print(counter)\n",
    "    counter += 1"
   ]
  },
  {
   "cell_type": "markdown",
   "id": "spread-amber",
   "metadata": {},
   "source": [
    "## Nested For Loops"
   ]
  },
  {
   "cell_type": "code",
   "execution_count": 3,
   "id": "smart-debut",
   "metadata": {},
   "outputs": [
    {
     "name": "stdout",
     "output_type": "stream",
     "text": [
      "\n",
      "0 \n",
      "0 1 \n",
      "0 1 2 \n",
      "0 1 2 3 \n",
      "0 1 2 3 4 \n",
      "0 1 2 3 4 5 \n",
      "0 1 2 3 4 5 6 \n",
      "0 1 2 3 4 5 6 7 \n",
      "0 1 2 3 4 5 6 7 8 \n"
     ]
    }
   ],
   "source": [
    "for i in range(10):\n",
    "    for j in range(i):\n",
    "        print(j, end=\" \")\n",
    "    print()"
   ]
  },
  {
   "cell_type": "markdown",
   "id": "supported-feature",
   "metadata": {},
   "source": [
    "## Break, Continue, Pass"
   ]
  },
  {
   "cell_type": "code",
   "execution_count": 4,
   "id": "conventional-companion",
   "metadata": {},
   "outputs": [
    {
     "name": "stdout",
     "output_type": "stream",
     "text": [
      "0\n"
     ]
    }
   ],
   "source": [
    "for i in range(10):\n",
    "    print(i)\n",
    "    break\n",
    "    print(i)"
   ]
  },
  {
   "cell_type": "code",
   "execution_count": 6,
   "id": "distant-rugby",
   "metadata": {},
   "outputs": [
    {
     "name": "stdout",
     "output_type": "stream",
     "text": [
      "0\n",
      "1\n",
      "2\n",
      "3\n",
      "4\n",
      "5\n",
      "6\n",
      "7\n",
      "8\n",
      "9\n"
     ]
    }
   ],
   "source": [
    "for i in range(10):\n",
    "    # do something here\n",
    "    continue # start the next iteration\n",
    "    print(i) # Never reached"
   ]
  },
  {
   "cell_type": "code",
   "execution_count": 10,
   "id": "normal-playing",
   "metadata": {},
   "outputs": [
    {
     "name": "stdout",
     "output_type": "stream",
     "text": [
      "0\n",
      "1\n",
      "2\n",
      "3\n",
      "4\n",
      "5\n",
      "6\n",
      "7\n",
      "8\n",
      "9\n"
     ]
    }
   ],
   "source": [
    "def function():\n",
    "    # TODO Implement blah blah blah\n",
    "    pass\n",
    "\n",
    "for i in range(10):\n",
    "    print(i)\n",
    "    pass # \"do nothing\" generally just used as a placeholder. You shouldn't worry about using this."
   ]
  },
  {
   "cell_type": "markdown",
   "id": "synthetic-green",
   "metadata": {},
   "source": [
    "## Lists"
   ]
  },
  {
   "cell_type": "code",
   "execution_count": 14,
   "id": "disabled-response",
   "metadata": {},
   "outputs": [
    {
     "data": {
      "text/plain": [
       "[1, 2, 3]"
      ]
     },
     "execution_count": 14,
     "metadata": {},
     "output_type": "execute_result"
    }
   ],
   "source": [
    "my_list = [1, 2, 3]   # Empty list l = []\n",
    "my_list"
   ]
  },
  {
   "cell_type": "code",
   "execution_count": 15,
   "id": "intelligent-financing",
   "metadata": {},
   "outputs": [
    {
     "data": {
      "text/plain": [
       "[1, 2, 3, 4]"
      ]
     },
     "execution_count": 15,
     "metadata": {},
     "output_type": "execute_result"
    }
   ],
   "source": [
    "my_list.append(4)     # Add to the end of list\n",
    "my_list"
   ]
  },
  {
   "cell_type": "code",
   "execution_count": 16,
   "id": "adaptive-reality",
   "metadata": {},
   "outputs": [
    {
     "data": {
      "text/plain": [
       "[5, 1, 2, 3, 4]"
      ]
     },
     "execution_count": 16,
     "metadata": {},
     "output_type": "execute_result"
    }
   ],
   "source": [
    "my_list.insert(0, 5)  # Add to the start of list\n",
    "my_list"
   ]
  },
  {
   "cell_type": "code",
   "execution_count": 17,
   "id": "tender-devices",
   "metadata": {},
   "outputs": [
    {
     "data": {
      "text/plain": [
       "5"
      ]
     },
     "execution_count": 17,
     "metadata": {},
     "output_type": "execute_result"
    }
   ],
   "source": [
    "# Length of a list. The same as strings\n",
    "len(my_list)"
   ]
  },
  {
   "cell_type": "code",
   "execution_count": 18,
   "id": "welcome-recycling",
   "metadata": {},
   "outputs": [
    {
     "data": {
      "text/plain": [
       "[5, 1, 2, 3]"
      ]
     },
     "execution_count": 18,
     "metadata": {},
     "output_type": "execute_result"
    }
   ],
   "source": [
    "my_list.pop() # Remove from the end\n",
    "my_list"
   ]
  },
  {
   "cell_type": "code",
   "execution_count": 20,
   "id": "technological-providence",
   "metadata": {},
   "outputs": [
    {
     "name": "stdout",
     "output_type": "stream",
     "text": [
      "1\n"
     ]
    },
    {
     "data": {
      "text/plain": [
       "[2, 3]"
      ]
     },
     "execution_count": 20,
     "metadata": {},
     "output_type": "execute_result"
    }
   ],
   "source": [
    "e = my_list.pop(0) # Remove from the start\n",
    "print(e)\n",
    "my_list"
   ]
  },
  {
   "cell_type": "markdown",
   "id": "nearby-watershed",
   "metadata": {},
   "source": [
    "## **\"in\"** Keyword"
   ]
  },
  {
   "cell_type": "code",
   "execution_count": 48,
   "id": "difficult-budget",
   "metadata": {},
   "outputs": [
    {
     "data": {
      "text/plain": [
       "False"
      ]
     },
     "execution_count": 48,
     "metadata": {},
     "output_type": "execute_result"
    }
   ],
   "source": [
    "5 in [1, 2, 3]"
   ]
  },
  {
   "cell_type": "code",
   "execution_count": 50,
   "id": "optical-colleague",
   "metadata": {},
   "outputs": [
    {
     "data": {
      "text/plain": [
       "True"
      ]
     },
     "execution_count": 50,
     "metadata": {},
     "output_type": "execute_result"
    }
   ],
   "source": [
    "1 in [1, 2, 3]"
   ]
  },
  {
   "cell_type": "code",
   "execution_count": 24,
   "id": "boring-parent",
   "metadata": {},
   "outputs": [
    {
     "data": {
      "text/plain": [
       "True"
      ]
     },
     "execution_count": 24,
     "metadata": {},
     "output_type": "execute_result"
    }
   ],
   "source": [
    "dsc_crew = [\"Daniel\", \"Quoc\", \"Chethin\"]\n",
    "\"Quoc\" in dsc_crew"
   ]
  },
  {
   "cell_type": "code",
   "execution_count": 52,
   "id": "ongoing-fields",
   "metadata": {},
   "outputs": [
    {
     "data": {
      "text/plain": [
       "False"
      ]
     },
     "execution_count": 52,
     "metadata": {},
     "output_type": "execute_result"
    }
   ],
   "source": [
    "\"Joe\" in dsc_crew"
   ]
  },
  {
   "cell_type": "code",
   "execution_count": 54,
   "id": "sacred-charity",
   "metadata": {},
   "outputs": [
    {
     "data": {
      "text/plain": [
       "True"
      ]
     },
     "execution_count": 54,
     "metadata": {},
     "output_type": "execute_result"
    }
   ],
   "source": [
    "\"Joe\" not in dsc_crew"
   ]
  },
  {
   "cell_type": "code",
   "execution_count": 55,
   "id": "statewide-services",
   "metadata": {},
   "outputs": [
    {
     "data": {
      "text/plain": [
       "True"
      ]
     },
     "execution_count": 55,
     "metadata": {},
     "output_type": "execute_result"
    }
   ],
   "source": [
    "\"a\" in \"Daniel\""
   ]
  },
  {
   "cell_type": "code",
   "execution_count": 56,
   "id": "liquid-laundry",
   "metadata": {},
   "outputs": [
    {
     "data": {
      "text/plain": [
       "False"
      ]
     },
     "execution_count": 56,
     "metadata": {},
     "output_type": "execute_result"
    }
   ],
   "source": [
    "\"A\" in \"Daniel\""
   ]
  },
  {
   "cell_type": "code",
   "execution_count": 21,
   "id": "original-reynolds",
   "metadata": {},
   "outputs": [
    {
     "data": {
      "text/plain": [
       "(True, 'DANIEL')"
      ]
     },
     "execution_count": 21,
     "metadata": {},
     "output_type": "execute_result"
    }
   ],
   "source": [
    "daniel = \"Daniel\".upper()\n",
    "\"A\" in daniel, daniel"
   ]
  },
  {
   "cell_type": "markdown",
   "id": "broke-complement",
   "metadata": {},
   "source": [
    "## Creating Loops with \"in\""
   ]
  },
  {
   "cell_type": "code",
   "execution_count": 63,
   "id": "amateur-velvet",
   "metadata": {},
   "outputs": [
    {
     "name": "stdout",
     "output_type": "stream",
     "text": [
      "a\n",
      "b\n",
      "c\n",
      "d\n",
      "e\n",
      "f\n",
      "g\n"
     ]
    }
   ],
   "source": [
    "for character in \"abcdefg\":\n",
    "    print(character)"
   ]
  },
  {
   "cell_type": "code",
   "execution_count": 25,
   "id": "pleasant-utility",
   "metadata": {},
   "outputs": [
    {
     "name": "stdout",
     "output_type": "stream",
     "text": [
      "Daniel\n",
      "Quoc\n",
      "Chethin\n"
     ]
    }
   ],
   "source": [
    "# Very verbose way of looping through elements of a list\n",
    "for i in range(len(dsc_crew)):\n",
    "    print(dsc_crew[i])"
   ]
  },
  {
   "cell_type": "code",
   "execution_count": 26,
   "id": "opposed-ultimate",
   "metadata": {},
   "outputs": [
    {
     "name": "stdout",
     "output_type": "stream",
     "text": [
      "Daniel\n",
      "Quoc\n",
      "Chethin\n"
     ]
    }
   ],
   "source": [
    "# Pythonic way\n",
    "for name in dsc_crew:\n",
    "    print(name)"
   ]
  },
  {
   "cell_type": "code",
   "execution_count": 27,
   "id": "invalid-mapping",
   "metadata": {},
   "outputs": [
    {
     "name": "stdout",
     "output_type": "stream",
     "text": [
      "1. Daniel\n",
      "2. Quoc\n",
      "3. Chethin\n"
     ]
    }
   ],
   "source": [
    "# Pythonic way while getting the element and index\n",
    "for i, name in enumerate(dsc_crew):\n",
    "    print(f'{i+1}. {name}')"
   ]
  },
  {
   "cell_type": "markdown",
   "id": "biblical-truck",
   "metadata": {},
   "source": [
    "## Functions"
   ]
  },
  {
   "cell_type": "code",
   "execution_count": 29,
   "id": "complete-workstation",
   "metadata": {},
   "outputs": [
    {
     "data": {
      "text/plain": [
       "(3, 1, [], False, True)"
      ]
     },
     "execution_count": 29,
     "metadata": {},
     "output_type": "execute_result"
    }
   ],
   "source": [
    "def my_addition(a, b):\n",
    "    return a + b, 1, [], False, True\n",
    "\n",
    "result = my_addition(1, 2)\n",
    "result"
   ]
  },
  {
   "cell_type": "code",
   "execution_count": 30,
   "id": "alleged-diameter",
   "metadata": {},
   "outputs": [
    {
     "name": "stdout",
     "output_type": "stream",
     "text": [
      "------------\n",
      "a=1 b=1\n",
      "1+1=2\n",
      "------------\n",
      "a=1 b=2\n",
      "1+2=3\n",
      "------------\n",
      "a=1 b=1\n",
      "1+1=2\n",
      "None\n"
     ]
    }
   ],
   "source": [
    "def my_addition2(a, b=1): \n",
    "    # Increment if b is not given\n",
    "    print(\"------------\")\n",
    "    print(f\"a={a} b={b}\")\n",
    "    print(f\"{a}+{b}={a+b}\")\n",
    "\n",
    "my_addition2(1)\n",
    "my_addition2(1, b=2) # Always do this when using keyword arguments\n",
    "\n",
    "result = my_addition2(1) # my_addition2 has no return statement\n",
    "print(result)"
   ]
  },
  {
   "cell_type": "markdown",
   "id": "specified-aquarium",
   "metadata": {},
   "source": [
    "# Practice Problems\n",
    "\n",
    "1. Print all even number from 0 to 100\n",
    "2. Write a function that checks if a number is divisible by another number\n",
    "3. Write a function that checks if a number is prime. Print all prime numbers from 0 to 100\n",
    "4. Print the Fibonacci sequence\n",
    "5. Reverse a string\n",
    "6. Check if a string is a palindrome\n",
    "7. Check if two words are anagrams"
   ]
  }
 ],
 "metadata": {
  "kernelspec": {
   "display_name": "Python 3",
   "language": "python",
   "name": "python3"
  },
  "language_info": {
   "codemirror_mode": {
    "name": "ipython",
    "version": 3
   },
   "file_extension": ".py",
   "mimetype": "text/x-python",
   "name": "python",
   "nbconvert_exporter": "python",
   "pygments_lexer": "ipython3",
   "version": "3.8.8"
  }
 },
 "nbformat": 4,
 "nbformat_minor": 5
}
