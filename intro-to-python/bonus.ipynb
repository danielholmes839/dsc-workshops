{
 "cells": [
  {
   "cell_type": "markdown",
   "id": "correct-contact",
   "metadata": {},
   "source": [
    "### Swapping Variables"
   ]
  },
  {
   "cell_type": "code",
   "execution_count": 5,
   "id": "communist-subsection",
   "metadata": {},
   "outputs": [
    {
     "data": {
      "text/plain": [
       "(1, 2)"
      ]
     },
     "execution_count": 5,
     "metadata": {},
     "output_type": "execute_result"
    }
   ],
   "source": [
    "a = 1\n",
    "b = 2\n",
    "\n",
    "a, b"
   ]
  },
  {
   "cell_type": "code",
   "execution_count": 38,
   "id": "seasonal-cologne",
   "metadata": {},
   "outputs": [
    {
     "data": {
      "text/plain": [
       "(2, 2)"
      ]
     },
     "execution_count": 38,
     "metadata": {},
     "output_type": "execute_result"
    }
   ],
   "source": [
    "# DOESN'T WORK\n",
    "a = 1\n",
    "b = 2\n",
    "\n",
    "a = b\n",
    "b = a\n",
    "\n",
    "a, b "
   ]
  },
  {
   "cell_type": "code",
   "execution_count": 37,
   "id": "ecological-surrey",
   "metadata": {},
   "outputs": [
    {
     "data": {
      "text/plain": [
       "(2, 1)"
      ]
     },
     "execution_count": 37,
     "metadata": {},
     "output_type": "execute_result"
    }
   ],
   "source": [
    "# Does work\n",
    "a = 1\n",
    "b = 2\n",
    "\n",
    "temp = a\n",
    "a = b\n",
    "b = temp\n",
    "\n",
    "a, b"
   ]
  },
  {
   "cell_type": "code",
   "execution_count": 39,
   "id": "literary-gamma",
   "metadata": {},
   "outputs": [
    {
     "data": {
      "text/plain": [
       "(2, 1)"
      ]
     },
     "execution_count": 39,
     "metadata": {},
     "output_type": "execute_result"
    }
   ],
   "source": [
    "# Shortcut\n",
    "a = 1\n",
    "b = 2\n",
    "\n",
    "a, b = b, a\n",
    "\n",
    "a, b"
   ]
  },
  {
   "cell_type": "markdown",
   "id": "impressed-assets",
   "metadata": {},
   "source": [
    "## Other Data Structures\n",
    "#### sets\n",
    "- add to a set O(1)\n",
    "- check if an element is in a set O(1)\n",
    "- contains unique values only no duplicates\n",
    "- unordered"
   ]
  },
  {
   "cell_type": "code",
   "execution_count": 5,
   "id": "entertaining-sound",
   "metadata": {},
   "outputs": [
    {
     "data": {
      "text/plain": [
       "{1, 2}"
      ]
     },
     "execution_count": 5,
     "metadata": {},
     "output_type": "execute_result"
    }
   ],
   "source": [
    "numbers = {1, 2}\n",
    "numbers"
   ]
  },
  {
   "cell_type": "code",
   "execution_count": 3,
   "id": "taken-atlas",
   "metadata": {},
   "outputs": [],
   "source": [
    "1 in numbers"
   ]
  },
  {
   "cell_type": "code",
   "execution_count": 4,
   "id": "lightweight-garlic",
   "metadata": {},
   "outputs": [],
   "source": [
    "3 in numbers"
   ]
  },
  {
   "cell_type": "code",
   "execution_count": 6,
   "id": "thorough-casino",
   "metadata": {},
   "outputs": [],
   "source": [
    "numbers.add(2)\n",
    "numbers"
   ]
  },
  {
   "cell_type": "code",
   "execution_count": 7,
   "id": "satisfied-guyana",
   "metadata": {},
   "outputs": [],
   "source": [
    "numbers.add(3)\n",
    "numbers"
   ]
  },
  {
   "cell_type": "code",
   "execution_count": 8,
   "id": "usual-performance",
   "metadata": {},
   "outputs": [],
   "source": [
    "3 in numbers"
   ]
  },
  {
   "cell_type": "code",
   "execution_count": 9,
   "id": "north-clone",
   "metadata": {},
   "outputs": [
    {
     "name": "stdout",
     "output_type": "stream",
     "text": [
      "1\n",
      "2\n",
      "3\n"
     ]
    }
   ],
   "source": [
    "for number in numbers:\n",
    "    print(number)"
   ]
  },
  {
   "cell_type": "markdown",
   "id": "finnish-curtis",
   "metadata": {},
   "source": [
    "dictionary\n",
    "- key value data structure.\n",
    "- get the value of a key O(1)\n",
    "- set the value of a key O(1)\n",
    "- check if a key exists O(1)"
   ]
  },
  {
   "cell_type": "code",
   "execution_count": 29,
   "id": "middle-soccer",
   "metadata": {},
   "outputs": [
    {
     "data": {
      "text/plain": [
       "{'joe': 'aaa-aaa-aaaa', 'jane': 'xxx-xxx-xxxx'}"
      ]
     },
     "execution_count": 29,
     "metadata": {},
     "output_type": "execute_result"
    }
   ],
   "source": [
    "phone_numbers = {\n",
    "    'joe': 'aaa-aaa-aaaa',\n",
    "    'jane': 'xxx-xxx-xxxx'\n",
    "}\n",
    "\n",
    "phone_numbers"
   ]
  },
  {
   "cell_type": "code",
   "execution_count": 30,
   "id": "subsequent-receptor",
   "metadata": {},
   "outputs": [
    {
     "name": "stdout",
     "output_type": "stream",
     "text": [
      "joe\n",
      "jane\n"
     ]
    }
   ],
   "source": [
    "for key in phone_numbers:\n",
    "    # for key in phone_number.keys()\n",
    "    print(key)"
   ]
  },
  {
   "cell_type": "code",
   "execution_count": 31,
   "id": "molecular-following",
   "metadata": {},
   "outputs": [
    {
     "name": "stdout",
     "output_type": "stream",
     "text": [
      "aaa-aaa-aaaa\n",
      "xxx-xxx-xxxx\n"
     ]
    }
   ],
   "source": [
    "for value in phone_numbers.values():\n",
    "    print(value)"
   ]
  },
  {
   "cell_type": "code",
   "execution_count": 32,
   "id": "robust-bidding",
   "metadata": {},
   "outputs": [
    {
     "name": "stdout",
     "output_type": "stream",
     "text": [
      "joe aaa-aaa-aaaa\n",
      "jane xxx-xxx-xxxx\n"
     ]
    }
   ],
   "source": [
    "for key, value in phone_numbers.items():\n",
    "    print(key, value)"
   ]
  },
  {
   "cell_type": "code",
   "execution_count": 33,
   "id": "flexible-cabin",
   "metadata": {},
   "outputs": [
    {
     "data": {
      "text/plain": [
       "True"
      ]
     },
     "execution_count": 33,
     "metadata": {},
     "output_type": "execute_result"
    }
   ],
   "source": [
    "'joe' in phone_numbers # Does the key exist"
   ]
  },
  {
   "cell_type": "code",
   "execution_count": 34,
   "id": "coastal-heaven",
   "metadata": {},
   "outputs": [
    {
     "data": {
      "text/plain": [
       "False"
      ]
     },
     "execution_count": 34,
     "metadata": {},
     "output_type": "execute_result"
    }
   ],
   "source": [
    "'google' in phone_numbers"
   ]
  },
  {
   "cell_type": "code",
   "execution_count": 35,
   "id": "dangerous-category",
   "metadata": {},
   "outputs": [
    {
     "data": {
      "text/plain": [
       "{'joe': 'aaa-aaa-aaaa', 'jane': 'xxx-xxx-xxxx', 'google': 'bbb-bbb-bbbb'}"
      ]
     },
     "execution_count": 35,
     "metadata": {},
     "output_type": "execute_result"
    }
   ],
   "source": [
    "phone_numbers['google'] = 'bbb-bbb-bbbb'\n",
    "phone_numbers"
   ]
  },
  {
   "cell_type": "code",
   "execution_count": 36,
   "id": "exotic-teach",
   "metadata": {},
   "outputs": [
    {
     "data": {
      "text/plain": [
       "True"
      ]
     },
     "execution_count": 36,
     "metadata": {},
     "output_type": "execute_result"
    }
   ],
   "source": [
    "'google' in phone_numbers"
   ]
  },
  {
   "cell_type": "code",
   "execution_count": 22,
   "id": "dated-album",
   "metadata": {},
   "outputs": [],
   "source": [
    "phone_numbers['google']"
   ]
  },
  {
   "cell_type": "markdown",
   "id": "lasting-stanley",
   "metadata": {},
   "source": [
    "### value vs reference types"
   ]
  },
  {
   "cell_type": "code",
   "execution_count": 16,
   "id": "extended-fossil",
   "metadata": {},
   "outputs": [],
   "source": [
    "a = []\n",
    "b = a\n",
    "\n",
    "a.append(1)"
   ]
  },
  {
   "cell_type": "code",
   "execution_count": 17,
   "id": "widespread-gilbert",
   "metadata": {},
   "outputs": [],
   "source": [
    "# What's in a?\n",
    "a"
   ]
  },
  {
   "cell_type": "code",
   "execution_count": 19,
   "id": "romantic-hayes",
   "metadata": {},
   "outputs": [],
   "source": [
    "# What's in b?\n",
    "b"
   ]
  },
  {
   "cell_type": "code",
   "execution_count": 20,
   "id": "directed-secondary",
   "metadata": {},
   "outputs": [],
   "source": [
    "a is b"
   ]
  },
  {
   "cell_type": "markdown",
   "id": "becoming-leave",
   "metadata": {},
   "source": [
    "### Function *args and **kwargs"
   ]
  },
  {
   "cell_type": "code",
   "execution_count": 40,
   "id": "accomplished-austin",
   "metadata": {},
   "outputs": [
    {
     "name": "stdout",
     "output_type": "stream",
     "text": [
      "(1, 2, 3)\n",
      "{'a': 1, 'b': 2}\n"
     ]
    }
   ],
   "source": [
    "def example(*args, **kwargs):\n",
    "    print(args)\n",
    "    print(kwargs)\n",
    "\n",
    "    \n",
    "example(1, 2, 3, a=1, b=2)"
   ]
  },
  {
   "cell_type": "markdown",
   "id": "owned-evaluation",
   "metadata": {},
   "source": [
    "### Decorators!\n",
    "\n",
    "Adding extra functionality by \"wrapping\" a function"
   ]
  },
  {
   "cell_type": "code",
   "execution_count": 42,
   "id": "false-accused",
   "metadata": {},
   "outputs": [
    {
     "name": "stdout",
     "output_type": "stream",
     "text": [
      "hello before\n",
      "example\n",
      "hello after\n"
     ]
    }
   ],
   "source": [
    "def hello(f):                                  \n",
    "    def wrapper(*args, **kwargs):          # Create a new function\n",
    "        print(\"hello before\")              # Add some extra functionality\n",
    "        result = f(*args, **kwargs)\n",
    "        print(\"hello after\")\n",
    "        return result\n",
    "    \n",
    "    return wrapper\n",
    "\n",
    "\n",
    "@hello\n",
    "def example():\n",
    "    print(\"example\")\n",
    "    \n",
    "example()    "
   ]
  },
  {
   "cell_type": "code",
   "execution_count": null,
   "id": "heavy-interview",
   "metadata": {},
   "outputs": [],
   "source": []
  }
 ],
 "metadata": {
  "kernelspec": {
   "display_name": "Python 3",
   "language": "python",
   "name": "python3"
  },
  "language_info": {
   "codemirror_mode": {
    "name": "ipython",
    "version": 3
   },
   "file_extension": ".py",
   "mimetype": "text/x-python",
   "name": "python",
   "nbconvert_exporter": "python",
   "pygments_lexer": "ipython3",
   "version": "3.8.8"
  }
 },
 "nbformat": 4,
 "nbformat_minor": 5
}
