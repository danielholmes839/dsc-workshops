{
 "cells": [
  {
   "cell_type": "markdown",
   "id": "detected-questionnaire",
   "metadata": {},
   "source": [
    "### Swapping Variables"
   ]
  },
  {
   "cell_type": "code",
   "execution_count": 5,
   "id": "brave-seeker",
   "metadata": {},
   "outputs": [
    {
     "data": {
      "text/plain": [
       "(1, 2)"
      ]
     },
     "execution_count": 5,
     "metadata": {},
     "output_type": "execute_result"
    }
   ],
   "source": [
    "a = 1\n",
    "b = 2\n",
    "\n",
    "a, b"
   ]
  },
  {
   "cell_type": "code",
   "execution_count": 12,
   "id": "sorted-geneva",
   "metadata": {},
   "outputs": [
    {
     "data": {
      "text/plain": [
       "(2, 2)"
      ]
     },
     "execution_count": 12,
     "metadata": {},
     "output_type": "execute_result"
    }
   ],
   "source": [
    "# DOESN'T WORK\n",
    "a = 1\n",
    "b = 2\n",
    "\n",
    "a = b\n",
    "b = a\n",
    "\n",
    "a, b "
   ]
  },
  {
   "cell_type": "code",
   "execution_count": 14,
   "id": "expected-islam",
   "metadata": {},
   "outputs": [
    {
     "data": {
      "text/plain": [
       "(2, 1)"
      ]
     },
     "execution_count": 14,
     "metadata": {},
     "output_type": "execute_result"
    }
   ],
   "source": [
    "# Does work\n",
    "a = 1\n",
    "b = 2\n",
    "\n",
    "temp = a\n",
    "a = b\n",
    "b = temp\n",
    "\n",
    "a, b"
   ]
  },
  {
   "cell_type": "code",
   "execution_count": 12,
   "id": "blank-oxygen",
   "metadata": {},
   "outputs": [],
   "source": [
    "# Shortcut\n",
    "a = 1\n",
    "b = 2\n",
    "\n",
    "a, b = b, a\n",
    "\n",
    "a, b"
   ]
  },
  {
   "cell_type": "markdown",
   "id": "progressive-washer",
   "metadata": {},
   "source": [
    "## Other *Data Structures*\n",
    "sets\n",
    "- add to a set O(1)\n",
    "- check if an element is in a set O(1)\n",
    "- contains unique values only no duplicates\n",
    "\n",
    "dictionary\n",
    "- key value data structure.\n",
    "- get the value of a key O(1)\n",
    "- set the value of a key O(1)\n",
    "- check if a key exists O(1)"
   ]
  },
  {
   "cell_type": "markdown",
   "id": "vanilla-arkansas",
   "metadata": {},
   "source": [
    "### value vs reference types"
   ]
  },
  {
   "cell_type": "code",
   "execution_count": 16,
   "id": "critical-intro",
   "metadata": {},
   "outputs": [],
   "source": [
    "a = []\n",
    "b = a\n",
    "\n",
    "a.append(1)"
   ]
  },
  {
   "cell_type": "code",
   "execution_count": 17,
   "id": "configured-paintball",
   "metadata": {},
   "outputs": [],
   "source": [
    "# What's in a?\n",
    "a"
   ]
  },
  {
   "cell_type": "code",
   "execution_count": 19,
   "id": "embedded-difference",
   "metadata": {},
   "outputs": [],
   "source": [
    "# What's in b?\n",
    "b"
   ]
  },
  {
   "cell_type": "code",
   "execution_count": 20,
   "id": "regular-arizona",
   "metadata": {},
   "outputs": [],
   "source": [
    "a is b"
   ]
  },
  {
   "cell_type": "markdown",
   "id": "adaptive-welsh",
   "metadata": {},
   "source": [
    "### Function *args and **kwargs"
   ]
  },
  {
   "cell_type": "code",
   "execution_count": 1,
   "id": "electric-modeling",
   "metadata": {},
   "outputs": [
    {
     "name": "stdout",
     "output_type": "stream",
     "text": [
      "(1, 2, 3)\n",
      "{'a': 1, 'b': 2}\n"
     ]
    }
   ],
   "source": [
    "def example(*args, **kwargs):\n",
    "    print(args)\n",
    "    print(kwargs)\n",
    "\n",
    "    \n",
    "example(1, 2, 3, a=1, b=2)"
   ]
  },
  {
   "cell_type": "markdown",
   "id": "pleased-overview",
   "metadata": {},
   "source": [
    "### Decorators!\n",
    "\n",
    "Adding extra functionality by \"wrapping\" a function"
   ]
  },
  {
   "cell_type": "code",
   "execution_count": 11,
   "id": "communist-ceiling",
   "metadata": {},
   "outputs": [
    {
     "name": "stdout",
     "output_type": "stream",
     "text": [
      "hello before\n",
      "example\n",
      "hello after\n"
     ]
    }
   ],
   "source": [
    "def hello(f):                                  \n",
    "    def wrapper(*args, **kwargs):          # Create a new function\n",
    "        print(\"hello before\")                        # Add some extra functionality\n",
    "        result = f(*args, **kwargs)\n",
    "        print(\"hello after\")\n",
    "        return result\n",
    "    \n",
    "    return wrapper\n",
    "\n",
    "\n",
    "@hello\n",
    "def example():\n",
    "    print(\"example\")\n",
    "    \n",
    "example()    "
   ]
  },
  {
   "cell_type": "code",
   "execution_count": null,
   "id": "standard-proxy",
   "metadata": {},
   "outputs": [],
   "source": []
  }
 ],
 "metadata": {
  "kernelspec": {
   "display_name": "Python 3",
   "language": "python",
   "name": "python3"
  },
  "language_info": {
   "codemirror_mode": {
    "name": "ipython",
    "version": 3
   },
   "file_extension": ".py",
   "mimetype": "text/x-python",
   "name": "python",
   "nbconvert_exporter": "python",
   "pygments_lexer": "ipython3",
   "version": "3.8.8"
  }
 },
 "nbformat": 4,
 "nbformat_minor": 5
}
