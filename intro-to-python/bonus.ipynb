{
 "cells": [
  {
   "cell_type": "markdown",
   "id": "opponent-thermal",
   "metadata": {},
   "source": [
    "### Swapping Variables"
   ]
  },
  {
   "cell_type": "code",
   "execution_count": 5,
   "id": "ethical-check",
   "metadata": {},
   "outputs": [
    {
     "data": {
      "text/plain": [
       "(1, 2)"
      ]
     },
     "execution_count": 5,
     "metadata": {},
     "output_type": "execute_result"
    }
   ],
   "source": [
    "a = 1\n",
    "b = 2\n",
    "\n",
    "a, b"
   ]
  },
  {
   "cell_type": "code",
   "execution_count": 12,
   "id": "extra-assistant",
   "metadata": {},
   "outputs": [
    {
     "data": {
      "text/plain": [
       "(2, 2)"
      ]
     },
     "execution_count": 12,
     "metadata": {},
     "output_type": "execute_result"
    }
   ],
   "source": [
    "# DOESN'T WORK\n",
    "a = 1\n",
    "b = 2\n",
    "\n",
    "a = b\n",
    "b = a\n",
    "\n",
    "a, b "
   ]
  },
  {
   "cell_type": "code",
   "execution_count": 14,
   "id": "impaired-transmission",
   "metadata": {},
   "outputs": [
    {
     "data": {
      "text/plain": [
       "(2, 1)"
      ]
     },
     "execution_count": 14,
     "metadata": {},
     "output_type": "execute_result"
    }
   ],
   "source": [
    "# Does work\n",
    "a = 1\n",
    "b = 2\n",
    "\n",
    "temp = a\n",
    "a = b\n",
    "b = temp\n",
    "\n",
    "a, b"
   ]
  },
  {
   "cell_type": "code",
   "execution_count": 12,
   "id": "demographic-attempt",
   "metadata": {},
   "outputs": [],
   "source": [
    "# Shortcut\n",
    "a = 1\n",
    "b = 2\n",
    "\n",
    "a, b = b, a\n",
    "\n",
    "a, b"
   ]
  },
  {
   "cell_type": "markdown",
   "id": "chronic-lotus",
   "metadata": {},
   "source": [
    "### value vs reference types"
   ]
  },
  {
   "cell_type": "code",
   "execution_count": 16,
   "id": "alone-inquiry",
   "metadata": {},
   "outputs": [],
   "source": [
    "a = []\n",
    "b = a\n",
    "\n",
    "a.append(1)"
   ]
  },
  {
   "cell_type": "code",
   "execution_count": 17,
   "id": "processed-visit",
   "metadata": {},
   "outputs": [],
   "source": [
    "# What's in a?\n",
    "a"
   ]
  },
  {
   "cell_type": "code",
   "execution_count": 19,
   "id": "respective-brave",
   "metadata": {},
   "outputs": [],
   "source": [
    "# What's in b?\n",
    "b"
   ]
  },
  {
   "cell_type": "code",
   "execution_count": 20,
   "id": "eligible-helping",
   "metadata": {},
   "outputs": [],
   "source": [
    "a is b"
   ]
  },
  {
   "cell_type": "markdown",
   "id": "cultural-wilderness",
   "metadata": {},
   "source": [
    "### Function *args and **kwargs"
   ]
  },
  {
   "cell_type": "code",
   "execution_count": 1,
   "id": "endless-bulletin",
   "metadata": {},
   "outputs": [
    {
     "name": "stdout",
     "output_type": "stream",
     "text": [
      "(1, 2, 3)\n",
      "{'a': 1, 'b': 2}\n"
     ]
    }
   ],
   "source": [
    "def example(*args, **kwargs):\n",
    "    print(args)\n",
    "    print(kwargs)\n",
    "\n",
    "    \n",
    "example(1, 2, 3, a=1, b=2)"
   ]
  },
  {
   "cell_type": "markdown",
   "id": "absolute-southeast",
   "metadata": {},
   "source": [
    "### Decorators!\n",
    "\n",
    "Adding extra functionality by \"wrapping\" a function"
   ]
  },
  {
   "cell_type": "code",
   "execution_count": 11,
   "id": "psychological-sugar",
   "metadata": {},
   "outputs": [
    {
     "name": "stdout",
     "output_type": "stream",
     "text": [
      "hello before\n",
      "example\n",
      "hello after\n"
     ]
    }
   ],
   "source": [
    "def hello(f):                                  \n",
    "    def wrapper(*args, **kwargs):          # Create a new function\n",
    "        print(\"hello before\")                        # Add some extra functionality\n",
    "        result = f(*args, **kwargs)\n",
    "        print(\"hello after\")\n",
    "        return result\n",
    "    \n",
    "    return wrapper\n",
    "\n",
    "\n",
    "@hello\n",
    "def example():\n",
    "    print(\"example\")\n",
    "    \n",
    "example()    "
   ]
  },
  {
   "cell_type": "code",
   "execution_count": null,
   "id": "cognitive-literature",
   "metadata": {},
   "outputs": [],
   "source": []
  },
  {
   "cell_type": "code",
   "execution_count": null,
   "id": "going-float",
   "metadata": {},
   "outputs": [],
   "source": []
  }
 ],
 "metadata": {
  "kernelspec": {
   "display_name": "Python 3",
   "language": "python",
   "name": "python3"
  },
  "language_info": {
   "codemirror_mode": {
    "name": "ipython",
    "version": 3
   },
   "file_extension": ".py",
   "mimetype": "text/x-python",
   "name": "python",
   "nbconvert_exporter": "python",
   "pygments_lexer": "ipython3",
   "version": "3.8.8"
  }
 },
 "nbformat": 4,
 "nbformat_minor": 5
}
