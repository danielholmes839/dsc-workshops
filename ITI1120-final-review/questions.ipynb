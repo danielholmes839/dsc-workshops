{
 "cells": [
  {
   "cell_type": "markdown",
   "id": "reduced-shower",
   "metadata": {},
   "source": [
    "# ITI1120 Final Review\n",
    "- dictionaries \n",
    "- OOP"
   ]
  },
  {
   "cell_type": "markdown",
   "id": "outstanding-pixel",
   "metadata": {},
   "source": [
    "# Q1"
   ]
  },
  {
   "cell_type": "markdown",
   "id": "chubby-control",
   "metadata": {},
   "source": [
    "Preconditions:\n",
    "- There are no two elements in the list L that are the same, and list L is sorted from smallest to the largest number\n",
    "- List div is not empty and it does not contain zero\n",
    "\n",
    "This function should return a list containing the following pairs of numbers from L: For every pair of distinct integers from L, you need to test if both of those numbers are divisible by at least one of the numbers in list div. If yes, that pair should be added to the resulting list, otherwise it should not be added. A pair should be added at most ONCE.\n",
    "\n",
    "Examples:\n",
    "\n",
    "\n",
    "```python\n",
    "def mekong(l, div)\n",
    "    \"\"\"(list of int, list of int)-> list of tuples\"\"\"\n",
    "    pass\n",
    "\n",
    "mekong([5, 16, 24, 50, 72], [3, 5, 8, 10])\n",
    "[(5, 50), (16, 24), (16, 72), (24, 72)]\n",
    "\n",
    "\"\"\"\n",
    "5 and 50 are both divisible by 5,\n",
    "16 and 24 are both divisible by 8\n",
    "16 and 72 are both divisible by 8\n",
    "24 and 72 are both divisible by 3 (and 8)\n",
    "\n",
    "For example pair (5,16) is not there since there is no number in div that\n",
    "divides both 5 and 16\n",
    "\"\"\"\n",
    "\n",
    "mekong([5, 12, 18, 21],[3, 8])\n",
    "[(12, 18), (12, 21), (18, 21)]\n",
    "\n",
    "mekong([5, 14, 21, 70],[7, 5, 100])\n",
    "[(5, 70), (14, 21), (14, 70), (21, 70)]\n",
    "\n",
    "mekong([5, 6, 12, 18, 21],[11])\n",
    "[]\n",
    "\n",
    "mekong([20,30,33],[10])\n",
    "[(20, 30)]\n",
    "```"
   ]
  },
  {
   "cell_type": "markdown",
   "id": "interstate-avatar",
   "metadata": {},
   "source": [
    "# Q2\n",
    "Return a dictionary where each item in `guesses` appears as an item in one of the dictionary's values lists:\n",
    "- each item **less** than answer is in a list associated with key **\"low\"**,\n",
    "- each item **equal** to answer is in a list associated with key **\"correct\"**, and\n",
    "- each item **greater** than answer is in a list associated with key **\"high\"**.\n",
    "\n",
    "If there are no items associated with one of 'low', 'correct', or 'high',\n",
    "then that string should not appear as a key in the dictionary."
   ]
  },
  {
   "cell_type": "code",
   "execution_count": 5,
   "id": "existing-differential",
   "metadata": {},
   "outputs": [
    {
     "data": {
      "text/plain": [
       "{'low': [4.7, 1]}"
      ]
     },
     "execution_count": 5,
     "metadata": {},
     "output_type": "execute_result"
    }
   ],
   "source": [
    "split_guesses([4.7, 1], 6.0)"
   ]
  },
  {
   "cell_type": "code",
   "execution_count": 6,
   "id": "tender-monkey",
   "metadata": {},
   "outputs": [
    {
     "data": {
      "text/plain": [
       "{'low': [1.3, 1.2], 'correct': [1.4, 1.4], 'high': [1.5, 1.6, 1.5, 1.6]}"
      ]
     },
     "execution_count": 6,
     "metadata": {},
     "output_type": "execute_result"
    }
   ],
   "source": [
    "split_guesses([1.3, 1.2, 1.4, 1.4, 1.5, 1.6, 1.5, 1.6], 1.4)"
   ]
  },
  {
   "cell_type": "markdown",
   "id": "underlying-alberta",
   "metadata": {},
   "source": [
    "# Q3\n",
    "Two friends like to send messages to each other, but they don't want\n",
    "anyone else to read the messages. To keep the messages private, they change\n",
    "each letter in the original message to a different letter of the alphabet.\n",
    "For every letter, they both know which letter will be substituted for it,\n",
    "which is called an encoding. The message will contain only lowercase letters.\n",
    "It will not contain whitespace, digits, or punctuation.\n",
    "\n",
    "Return a decoded version of secret_message using the mapping of secret\n",
    "character to actual character given in the dictionary encoding.\n",
    "Precondition: every character in secret_message is a key in dictionary encoding\n",
    "\n",
    "```python\n",
    "encoding = {'x': 'a', 't': 'n', 'n': 'e', 'e': 's', 'r': 'w', 'i': 'r'}\n",
    "\n",
    "decode('xternie', encoding)\n",
    "'answers'\n",
    "\n",
    "decode('abba', {'a': 'o', 'b': 't'})\n",
    "'otto'\n",
    "```"
   ]
  },
  {
   "cell_type": "code",
   "execution_count": 8,
   "id": "expired-arrest",
   "metadata": {},
   "outputs": [
    {
     "data": {
      "text/plain": [
       "'answers'"
      ]
     },
     "execution_count": 8,
     "metadata": {},
     "output_type": "execute_result"
    }
   ],
   "source": [
    "encoding = {'x': 'a', 't': 'n', 'n': 'e', 'e': 's', 'r': 'w', 'i': 'r'}\n",
    "decode('xternie', encoding)"
   ]
  },
  {
   "cell_type": "markdown",
   "id": "hidden-analyst",
   "metadata": {},
   "source": [
    "# Q4\n",
    "\n",
    "- Create two classes `Route` and `Airline` by following the test outputs\n",
    "\n",
    "```python\n",
    "route1=Route('YYZ', 'LHR', 2)\n",
    "\n",
    "route1.start\n",
    ">>> 'YYZ'\n",
    "\n",
    "route1.end\n",
    ">>> 'LHR'\n",
    "\n",
    "route1.num\n",
    ">>> 2\n",
    "\n",
    "route1.modify_num_daily_flights_by(3)\n",
    "route1.num\n",
    ">>> 5\n",
    "\n",
    "route1.modify_num_daily_flights_by(-1)\n",
    "route1.modify_num_daily_flights_by(-1)\n",
    "route1.num\n",
    ">>> 3\n",
    "\n",
    "route1\n",
    ">>> Route('YYZ', 'LHR',3)\n",
    "\n",
    "route2=eval(repr(route1))\n",
    "route2\n",
    "\n",
    ">>> Route('YYZ', 'LHR',3)\n",
    "\n",
    "ac=Airline('Air Canada', [Route('YYZ', 'LHR',4), Route('YUL','BCN', 1), Route('YYZ', 'YUL',10), Route('YOW', 'FRA', 1)])\n",
    ">>> ac.name\n",
    "'Air Canada'\n",
    "\n",
    "ac.routes\n",
    ">>> [Route('YYZ', 'LHR',4), Route('YUL', 'BCN',1), Route('YYZ', 'YUL',10), Route('YOW', 'FRA',1)]\n",
    "\n",
    "ac.multiple_flights()\n",
    ">>> [Route('YYZ', 'LHR',4), Route('YYZ', 'YUL',10)]\n",
    "\n",
    "ca=Airline('Croatia Airline', [Route('ZAG', 'BCN',1), Route('SPU','CDG', 1)])\n",
    "ca.multiple_flights()\n",
    ">>> []\n",
    "```\n"
   ]
  },
  {
   "cell_type": "code",
   "execution_count": null,
   "id": "dramatic-attack",
   "metadata": {},
   "outputs": [],
   "source": []
  }
 ],
 "metadata": {
  "kernelspec": {
   "display_name": "Python 3",
   "language": "python",
   "name": "python3"
  },
  "language_info": {
   "codemirror_mode": {
    "name": "ipython",
    "version": 3
   },
   "file_extension": ".py",
   "mimetype": "text/x-python",
   "name": "python",
   "nbconvert_exporter": "python",
   "pygments_lexer": "ipython3",
   "version": "3.8.8"
  }
 },
 "nbformat": 4,
 "nbformat_minor": 5
}
