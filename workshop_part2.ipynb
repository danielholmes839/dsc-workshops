{
 "cells": [
  {
   "cell_type": "code",
   "execution_count": null,
   "id": "vocational-movement",
   "metadata": {},
   "outputs": [],
   "source": []
  },
  {
   "cell_type": "markdown",
   "id": "clear-mistake",
   "metadata": {},
   "source": [
    "# **Google DSC Intro to Python Workshop**\n",
    "\n",
    "## Part 2\n",
    "- for loop\n",
    "- while loops\n",
    "- lists\n",
    "- more on functions\n",
    "- **Practice Problems!**"
   ]
  },
  {
   "cell_type": "markdown",
   "id": "saving-knowing",
   "metadata": {},
   "source": [
    "# For Loops"
   ]
  },
  {
   "cell_type": "code",
   "execution_count": 83,
   "id": "invisible-sheep",
   "metadata": {},
   "outputs": [
    {
     "name": "stdout",
     "output_type": "stream",
     "text": [
      "0\n",
      "1\n",
      "2\n",
      "3\n",
      "4\n"
     ]
    }
   ],
   "source": [
    "# Example #1\n",
    "for i in range(5):\n",
    "    print(i)"
   ]
  },
  {
   "cell_type": "code",
   "execution_count": 87,
   "id": "exclusive-savings",
   "metadata": {},
   "outputs": [
    {
     "name": "stdout",
     "output_type": "stream",
     "text": [
      "3\n",
      "4\n"
     ]
    }
   ],
   "source": [
    "# Example #2\n",
    "for i in range(3, 5):\n",
    "    print(i)"
   ]
  },
  {
   "cell_type": "code",
   "execution_count": 85,
   "id": "accessible-acoustic",
   "metadata": {},
   "outputs": [
    {
     "name": "stdout",
     "output_type": "stream",
     "text": [
      "0\n",
      "5\n",
      "10\n",
      "15\n",
      "20\n"
     ]
    }
   ],
   "source": [
    "# Example #3\n",
    "for i in range(0, 25, 5):\n",
    "    print(i)"
   ]
  },
  {
   "cell_type": "markdown",
   "id": "loving-judgment",
   "metadata": {},
   "source": [
    "## While Loops"
   ]
  },
  {
   "cell_type": "code",
   "execution_count": 20,
   "id": "human-sentence",
   "metadata": {},
   "outputs": [],
   "source": [
    "# Example #1\n",
    "counter = 0\n",
    "\n",
    "while counter < 5:\n",
    "    print(counter)\n",
    "    counter += 1"
   ]
  },
  {
   "cell_type": "markdown",
   "id": "saving-jimmy",
   "metadata": {},
   "source": [
    "## Nested For Loops"
   ]
  },
  {
   "cell_type": "code",
   "execution_count": 3,
   "id": "legal-gross",
   "metadata": {},
   "outputs": [
    {
     "name": "stdout",
     "output_type": "stream",
     "text": [
      "\n",
      "0 \n",
      "0 1 \n",
      "0 1 2 \n",
      "0 1 2 3 \n",
      "0 1 2 3 4 \n",
      "0 1 2 3 4 5 \n",
      "0 1 2 3 4 5 6 \n",
      "0 1 2 3 4 5 6 7 \n",
      "0 1 2 3 4 5 6 7 8 \n"
     ]
    }
   ],
   "source": [
    "for i in range(10):\n",
    "    for j in range(i):\n",
    "        print(j, end=\" \")\n",
    "    print()"
   ]
  },
  {
   "cell_type": "markdown",
   "id": "saving-location",
   "metadata": {},
   "source": [
    "## Break, Continue, Pass"
   ]
  },
  {
   "cell_type": "code",
   "execution_count": 10,
   "id": "mental-corps",
   "metadata": {},
   "outputs": [
    {
     "name": "stdout",
     "output_type": "stream",
     "text": [
      "0\n"
     ]
    }
   ],
   "source": [
    "for i in range(10):\n",
    "    print(i)\n",
    "    break\n",
    "    print(i)"
   ]
  },
  {
   "cell_type": "code",
   "execution_count": 12,
   "id": "improved-comedy",
   "metadata": {},
   "outputs": [],
   "source": [
    "for i in range(10):\n",
    "    # do something here\n",
    "    \n",
    "    continue # start the next iteration\n",
    "    \n",
    "    print(i) # Never reached"
   ]
  },
  {
   "cell_type": "code",
   "execution_count": 14,
   "id": "strategic-shareware",
   "metadata": {},
   "outputs": [
    {
     "name": "stdout",
     "output_type": "stream",
     "text": [
      "0\n",
      "1\n",
      "2\n",
      "3\n",
      "4\n",
      "5\n",
      "6\n",
      "7\n",
      "8\n",
      "9\n"
     ]
    }
   ],
   "source": [
    "for i in range(10):\n",
    "    print(i)\n",
    "    pass # \"do nothing\" generally just used as a placeholder. You shouldn't worry about using this."
   ]
  },
  {
   "cell_type": "markdown",
   "id": "emerging-marketing",
   "metadata": {},
   "source": [
    "## Lists"
   ]
  },
  {
   "cell_type": "code",
   "execution_count": 41,
   "id": "single-session",
   "metadata": {},
   "outputs": [
    {
     "data": {
      "text/plain": [
       "[1, 2, 3]"
      ]
     },
     "execution_count": 41,
     "metadata": {},
     "output_type": "execute_result"
    }
   ],
   "source": [
    "my_list = [1, 2, 3]   # Empty list l = []\n",
    "my_list"
   ]
  },
  {
   "cell_type": "code",
   "execution_count": 42,
   "id": "aggressive-brook",
   "metadata": {},
   "outputs": [
    {
     "data": {
      "text/plain": [
       "[1, 2, 3, 4]"
      ]
     },
     "execution_count": 42,
     "metadata": {},
     "output_type": "execute_result"
    }
   ],
   "source": [
    "my_list.append(4)     # Add to the end of list\n",
    "my_list"
   ]
  },
  {
   "cell_type": "code",
   "execution_count": 43,
   "id": "unexpected-typing",
   "metadata": {},
   "outputs": [
    {
     "data": {
      "text/plain": [
       "[5, 1, 2, 3, 4]"
      ]
     },
     "execution_count": 43,
     "metadata": {},
     "output_type": "execute_result"
    }
   ],
   "source": [
    "my_list.insert(0, 5)  # Add to the start of list\n",
    "my_list"
   ]
  },
  {
   "cell_type": "code",
   "execution_count": 44,
   "id": "formed-bearing",
   "metadata": {},
   "outputs": [
    {
     "data": {
      "text/plain": [
       "5"
      ]
     },
     "execution_count": 44,
     "metadata": {},
     "output_type": "execute_result"
    }
   ],
   "source": [
    "# Length of a list. The same as strings\n",
    "len(my_list)"
   ]
  },
  {
   "cell_type": "code",
   "execution_count": 45,
   "id": "visible-building",
   "metadata": {},
   "outputs": [
    {
     "data": {
      "text/plain": [
       "[5, 1, 2, 3]"
      ]
     },
     "execution_count": 45,
     "metadata": {},
     "output_type": "execute_result"
    }
   ],
   "source": [
    "my_list.pop() # Remove from the end\n",
    "my_list"
   ]
  },
  {
   "cell_type": "code",
   "execution_count": 46,
   "id": "unnecessary-alarm",
   "metadata": {},
   "outputs": [
    {
     "data": {
      "text/plain": [
       "[1, 2, 3]"
      ]
     },
     "execution_count": 46,
     "metadata": {},
     "output_type": "execute_result"
    }
   ],
   "source": [
    "my_list.pop(0) # Remove from the start\n",
    "my_list"
   ]
  },
  {
   "cell_type": "markdown",
   "id": "covered-crowd",
   "metadata": {},
   "source": [
    "## **\"in\"** Keyword"
   ]
  },
  {
   "cell_type": "code",
   "execution_count": 48,
   "id": "outside-crest",
   "metadata": {},
   "outputs": [
    {
     "data": {
      "text/plain": [
       "False"
      ]
     },
     "execution_count": 48,
     "metadata": {},
     "output_type": "execute_result"
    }
   ],
   "source": [
    "5 in [1, 2, 3]"
   ]
  },
  {
   "cell_type": "code",
   "execution_count": 50,
   "id": "proved-arrival",
   "metadata": {},
   "outputs": [
    {
     "data": {
      "text/plain": [
       "True"
      ]
     },
     "execution_count": 50,
     "metadata": {},
     "output_type": "execute_result"
    }
   ],
   "source": [
    "1 in [1, 2, 3]"
   ]
  },
  {
   "cell_type": "code",
   "execution_count": 62,
   "id": "incomplete-anatomy",
   "metadata": {},
   "outputs": [
    {
     "data": {
      "text/plain": [
       "True"
      ]
     },
     "execution_count": 62,
     "metadata": {},
     "output_type": "execute_result"
    }
   ],
   "source": [
    "dsc_crew = [\"Daniel\", \"Quoc\", \"Chethin\"]\n",
    "\"Quoc\" in dsc_crew"
   ]
  },
  {
   "cell_type": "code",
   "execution_count": 52,
   "id": "manual-seafood",
   "metadata": {},
   "outputs": [
    {
     "data": {
      "text/plain": [
       "False"
      ]
     },
     "execution_count": 52,
     "metadata": {},
     "output_type": "execute_result"
    }
   ],
   "source": [
    "\"Joe\" in dsc_crew"
   ]
  },
  {
   "cell_type": "code",
   "execution_count": 54,
   "id": "drawn-motor",
   "metadata": {},
   "outputs": [
    {
     "data": {
      "text/plain": [
       "True"
      ]
     },
     "execution_count": 54,
     "metadata": {},
     "output_type": "execute_result"
    }
   ],
   "source": [
    "\"Joe\" not in dsc_crew"
   ]
  },
  {
   "cell_type": "code",
   "execution_count": 55,
   "id": "defensive-glasgow",
   "metadata": {},
   "outputs": [
    {
     "data": {
      "text/plain": [
       "True"
      ]
     },
     "execution_count": 55,
     "metadata": {},
     "output_type": "execute_result"
    }
   ],
   "source": [
    "\"a\" in \"Daniel\""
   ]
  },
  {
   "cell_type": "code",
   "execution_count": 56,
   "id": "threaded-criterion",
   "metadata": {},
   "outputs": [
    {
     "data": {
      "text/plain": [
       "False"
      ]
     },
     "execution_count": 56,
     "metadata": {},
     "output_type": "execute_result"
    }
   ],
   "source": [
    "\"A\" in \"Daniel\""
   ]
  },
  {
   "cell_type": "code",
   "execution_count": 61,
   "id": "dependent-source",
   "metadata": {},
   "outputs": [
    {
     "data": {
      "text/plain": [
       "(True, 'DANIEL')"
      ]
     },
     "execution_count": 61,
     "metadata": {},
     "output_type": "execute_result"
    }
   ],
   "source": [
    "daniel = \"Daniel\".upper()\n",
    "\"A\" in daniel, daniel"
   ]
  },
  {
   "cell_type": "markdown",
   "id": "bored-interview",
   "metadata": {},
   "source": [
    "## Creating Loops with \"in\""
   ]
  },
  {
   "cell_type": "code",
   "execution_count": 63,
   "id": "aware-traffic",
   "metadata": {},
   "outputs": [
    {
     "name": "stdout",
     "output_type": "stream",
     "text": [
      "a\n",
      "b\n",
      "c\n",
      "d\n",
      "e\n",
      "f\n",
      "g\n"
     ]
    }
   ],
   "source": [
    "for character in \"abcdefg\":\n",
    "    print(character)"
   ]
  },
  {
   "cell_type": "code",
   "execution_count": 64,
   "id": "genetic-limitation",
   "metadata": {},
   "outputs": [
    {
     "name": "stdout",
     "output_type": "stream",
     "text": [
      "Daniel\n",
      "Quoc\n",
      "Chethin\n"
     ]
    }
   ],
   "source": [
    "for name in dsc_crew:\n",
    "    print(name)"
   ]
  },
  {
   "cell_type": "code",
   "execution_count": 65,
   "id": "indie-powell",
   "metadata": {},
   "outputs": [
    {
     "name": "stdout",
     "output_type": "stream",
     "text": [
      "1. Daniel\n",
      "2. Quoc\n",
      "3. Chethin\n"
     ]
    }
   ],
   "source": [
    "# Helpful enumerate function\n",
    "for i, name in enumerate(dsc_crew):\n",
    "    print(f'{i+1}. {name}')"
   ]
  },
  {
   "cell_type": "markdown",
   "id": "rational-lottery",
   "metadata": {},
   "source": [
    "## Functions"
   ]
  },
  {
   "cell_type": "code",
   "execution_count": 15,
   "id": "meaning-offset",
   "metadata": {},
   "outputs": [
    {
     "data": {
      "text/plain": [
       "3"
      ]
     },
     "execution_count": 15,
     "metadata": {},
     "output_type": "execute_result"
    }
   ],
   "source": [
    "def my_addition(a, b):\n",
    "    return a + b\n",
    "\n",
    "result = my_addition(1, 2)\n",
    "result"
   ]
  },
  {
   "cell_type": "code",
   "execution_count": 19,
   "id": "logical-interim",
   "metadata": {},
   "outputs": [
    {
     "name": "stdout",
     "output_type": "stream",
     "text": [
      "------------\n",
      "a=1 b=2\n",
      "1+2=3\n",
      "------------\n",
      "a=1 b=2\n",
      "1+2=3\n",
      "------------\n",
      "a=1 b=1\n",
      "1+1=2\n",
      "None\n"
     ]
    }
   ],
   "source": [
    "def my_addition2(a, b=1): \n",
    "    # Increment if b is not given\n",
    "    print(\"------------\")\n",
    "    print(f\"a={a} b={b}\")\n",
    "    print(f\"{a}+{b}={a+b}\")\n",
    "\n",
    "my_addition2(1, 2)\n",
    "my_addition2(1, b=2) # Always do this when using keyword arguments\n",
    "\n",
    "result = my_addition2(1) # my_addition2 has no return statement\n",
    "print(result)"
   ]
  },
  {
   "cell_type": "markdown",
   "id": "radical-species",
   "metadata": {},
   "source": [
    "# Practice Problems"
   ]
  },
  {
   "cell_type": "markdown",
   "id": "bibliographic-convert",
   "metadata": {},
   "source": [
    "- Write a function that checks if a number is prime\n",
    "- Print out all **prime** number from 0 to 100"
   ]
  },
  {
   "cell_type": "code",
   "execution_count": 20,
   "id": "stopped-demonstration",
   "metadata": {},
   "outputs": [
    {
     "name": "stdout",
     "output_type": "stream",
     "text": [
      "0\n",
      "1\n",
      "2\n",
      "3\n",
      "5\n",
      "7\n",
      "11\n",
      "13\n",
      "17\n",
      "19\n",
      "23\n",
      "29\n",
      "31\n",
      "37\n",
      "41\n",
      "43\n",
      "47\n",
      "53\n",
      "59\n",
      "61\n",
      "67\n",
      "71\n",
      "73\n",
      "79\n",
      "83\n",
      "89\n",
      "97\n"
     ]
    }
   ],
   "source": [
    "\n",
    "def is_prime(n):\n",
    "    for factor in range(2, n):\n",
    "        if n % factor == 0:\n",
    "            return False\n",
    "        \n",
    "    return True\n",
    "\n",
    "# Primes\n",
    "for prime in range(0, 100):\n",
    "    if is_prime(prime):\n",
    "        print(prime)"
   ]
  },
  {
   "cell_type": "code",
   "execution_count": null,
   "id": "swedish-acrylic",
   "metadata": {},
   "outputs": [],
   "source": []
  }
 ],
 "metadata": {
  "kernelspec": {
   "display_name": "Python 3",
   "language": "python",
   "name": "python3"
  },
  "language_info": {
   "codemirror_mode": {
    "name": "ipython",
    "version": 3
   },
   "file_extension": ".py",
   "mimetype": "text/x-python",
   "name": "python",
   "nbconvert_exporter": "python",
   "pygments_lexer": "ipython3",
   "version": "3.8.8"
  }
 },
 "nbformat": 4,
 "nbformat_minor": 5
}
