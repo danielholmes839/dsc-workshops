{
 "cells": [
  {
   "cell_type": "markdown",
   "id": "adjusted-executive",
   "metadata": {},
   "source": [
    "# Test 1\n",
    "\n",
    "You cannot use loops, lists/arrays, tuples, sets, dictionaries\n"
   ]
  },
  {
   "cell_type": "markdown",
   "id": "stuffed-discretion",
   "metadata": {},
   "source": [
    "### Question 1\n",
    "\n",
    "\n",
    "Write a function called “atlantic” that takes in one input string called “sn”. If the length of sn is at least 9, return a string “new”. Otherwise, return a string “old”.\n",
    "\n",
    "```\n",
    "atlantic(\"300164087\") outputs \"new\"\n",
    "atlantic(\"hi\") outputs \"old\"\n",
    "```"
   ]
  },
  {
   "cell_type": "code",
   "execution_count": 3,
   "id": "million-shield",
   "metadata": {},
   "outputs": [],
   "source": [
    "def atlantic(sn):\n",
    "    \"\"\"\n",
    "    (str) -> str\n",
    "\n",
    "    If input string's length >= 9, return \"new\". Else, return \"old\"\n",
    "    \"\"\"\n",
    "    pass"
   ]
  },
  {
   "cell_type": "markdown",
   "id": "shared-manual",
   "metadata": {},
   "source": [
    "### Question 2\n",
    "\n",
    "Write a function called `southern` that takes in an integer n.\n",
    "if n is 1, ask the user to input a weight in pounds. Then ask the user to input a weight in ounces.\n",
    "Using the inputs, calculate and print the weight in kilograms\n",
    "\n",
    "\n",
    "if the input is 2, ask the user for their name and student number.\n",
    "if their student number's length is at least nine, print \"new\". Otherwise, print \"old\".\n",
    "hint: Use the atlantic function.\n",
    "\n",
    "```\n",
    "southern(1)\n",
    "Enter number of weight in pounds: 2\n",
    "Enter number of weight in ounces: 2\n",
    "2.0 pounds and 2.0 ounces is (approximately) 0.9639 kilograms\n",
    "\n",
    "southern(2)\n",
    "What is your name? Tom\n",
    "What is your student number? 300164087\n",
    "Tom you have new student number\n",
    "```"
   ]
  },
  {
   "cell_type": "code",
   "execution_count": 4,
   "id": "deluxe-limit",
   "metadata": {},
   "outputs": [],
   "source": [
    "def southern(n):\n",
    "    \"\"\"\n",
    "    (int) -> print()\n",
    "\n",
    "    if input n is 1, Ask for pounds, ounces, then calculate kilograms.\n",
    "    if input n is 2, Ask for name and student number, print statement if the number is new or old.\n",
    "    \"\"\"\n",
    "    pass"
   ]
  },
  {
   "cell_type": "markdown",
   "id": "amateur-theory",
   "metadata": {},
   "source": [
    "### Question 3\n",
    "\n",
    "Write a function called \"pacific\" that takes in three floats values g1, g2, and g3 (they are grades).\n",
    "This function determines if the student did well on a test\n",
    "It returns true if there are three \"passes\" and at least one \"A\". Otherwise return false.\n",
    "A grade is considered \"pass\" when it is at least 50\n",
    "A grade is considered an \"A\" and a passing grade if it is at least 80\n",
    "\n",
    "```\n",
    "pacific(40,50,50) returns false\n",
    "pacific(50,50,50) returns false\n",
    "pacific(50,50,60) returns false\n",
    "pacific(50,80,50) returns true\n",
    "pacific(50,80,40) returns false\n",
    "```"
   ]
  },
  {
   "cell_type": "code",
   "execution_count": 5,
   "id": "other-wells",
   "metadata": {},
   "outputs": [],
   "source": [
    "def pacific(g1, g2, g3):\n",
    "    \"\"\"\n",
    "    (float, float, float) -> bool\n",
    "\n",
    "    g>=50 means pass\n",
    "    g>= 80 means A\n",
    "    True if 3 pass and 1 A\n",
    "    Otherwise return False\n",
    "    \"\"\"\n",
    "    pass"
   ]
  },
  {
   "cell_type": "markdown",
   "id": "scenic-amendment",
   "metadata": {},
   "source": [
    "### Question 4\n",
    "\n",
    "Write a function called \"arctic\" that takes in an integer n that is 6 digits or 4 digits\n",
    "Return true if this integer is a palindrome\n",
    "A palindrome is a number or a string such that when you reverse it, it is the same as the original\n",
    "You cannot convert into a string. Zero marks if you do so.\n",
    "\n",
    "\n",
    "artic(1001) return true\n",
    "artic(100001) return true\n",
    "arctic(101001) return False (not a palindrome)\n",
    "arctic(10101) return false (because it is 5-digit)"
   ]
  },
  {
   "cell_type": "code",
   "execution_count": 6,
   "id": "descending-highlight",
   "metadata": {},
   "outputs": [],
   "source": [
    "def arctic(n):\n",
    "     '''(int)->bool'''\n",
    "     pass\n",
    "\n",
    "\n",
    "def arctic2(n):\n",
    "    \"\"\"\n",
    "    (int) -> bool\n",
    "    \"\"\"\n",
    "    pass"
   ]
  },
  {
   "cell_type": "code",
   "execution_count": null,
   "id": "soviet-pricing",
   "metadata": {},
   "outputs": [],
   "source": []
  }
 ],
 "metadata": {
  "kernelspec": {
   "display_name": "Python 3",
   "language": "python",
   "name": "python3"
  },
  "language_info": {
   "codemirror_mode": {
    "name": "ipython",
    "version": 3
   },
   "file_extension": ".py",
   "mimetype": "text/x-python",
   "name": "python",
   "nbconvert_exporter": "python",
   "pygments_lexer": "ipython3",
   "version": "3.8.8"
  }
 },
 "nbformat": 4,
 "nbformat_minor": 5
}
