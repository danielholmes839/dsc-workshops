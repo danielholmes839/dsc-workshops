{
 "cells": [
  {
   "cell_type": "markdown",
   "id": "surface-native",
   "metadata": {},
   "source": [
    "# Part 1\n",
    "\n",
    "You cannot use loops, lists/arrays, tuples, sets, dictionaries\n"
   ]
  },
  {
   "cell_type": "markdown",
   "id": "hindu-static",
   "metadata": {},
   "source": [
    "### Question 1\n",
    "\n",
    "\n",
    "Write a function called “atlantic” that takes in one input string called “sn”. If the length of sn is at least 9, return a string “new”. Otherwise, return a string “old”.\n",
    "\n",
    "```\n",
    "atlantic(\"300164087\") outputs \"new\"\n",
    "atlantic(\"hi\") outputs \"old\"\n",
    "```"
   ]
  },
  {
   "cell_type": "code",
   "execution_count": 1,
   "id": "pointed-territory",
   "metadata": {},
   "outputs": [],
   "source": [
    "def atlantic(sn):\n",
    "    \"\"\"\n",
    "    (str) -> str\n",
    "\n",
    "    If input string's length >= 9, return \"new\". Else, return \"old\"\n",
    "    \"\"\"\n",
    "    \n",
    "    if len(sn) >= 9:\n",
    "        return \"new\"\n",
    "    \n",
    "    return \"old\""
   ]
  },
  {
   "cell_type": "markdown",
   "id": "further-channel",
   "metadata": {},
   "source": [
    "### Question 2\n",
    "\n",
    "Write a function called `southern` that takes in an integer n.\n",
    "if n is 1, ask the user to input a weight in pounds. Then ask the user to input a weight in ounces.\n",
    "Using the inputs, calculate and print the weight in kilograms\n",
    "\n",
    "\n",
    "if the input is 2, ask the user for their name and student number.\n",
    "if their student number's length is at least nine, print \"new\". Otherwise, print \"old\".\n",
    "hint: Use the atlantic function.\n",
    "\n",
    "```\n",
    "southern(1)\n",
    "Enter number of weight in pounds: 2\n",
    "Enter number of weight in ounces: 2\n",
    "2.0 pounds and 2.0 ounces is (approximately) 0.9639 kilograms\n",
    "\n",
    "southern(2)\n",
    "What is your name? Tom\n",
    "What is your student number? 300164087\n",
    "Tom you have new student number\n",
    "```"
   ]
  },
  {
   "cell_type": "code",
   "execution_count": 3,
   "id": "adjustable-panic",
   "metadata": {},
   "outputs": [],
   "source": [
    "def southern(n):\n",
    "    \"\"\"\n",
    "    (int) -> print()\n",
    "\n",
    "    if input n is 1, Ask for pounds, ounces, then calculate kilograms.\n",
    "    if input n is 2, Ask for name and student number, print statement if the number is new or old.\n",
    "    \"\"\"\n",
    "    \n",
    "    if n == 1:\n",
    "        pounds = float(input(\"Enter number of weight in pounds: \"))\n",
    "        ounces = float(input(\"Enter number of weight in ounces: \"))\n",
    "        kilograms = (pounds * 16 + ounces) * 0.02835\n",
    "        print(pounds)\n",
    "        print(f'{pounds} pounds and {ounces} ounces is approximately {kilograms} kilograms')\n",
    "        \n",
    "    elif n == 2:\n",
    "        name = input(\"What is your name? \")\n",
    "        student_number = input(\"What is your student number? \")\n",
    "        old_or_new = atlantic(student_number)\n",
    "        print(f'{name} you have a {old_or_new} student number')\n",
    "        \n",
    "    else:\n",
    "        print(\"Invalid input\")"
   ]
  },
  {
   "cell_type": "markdown",
   "id": "hybrid-passing",
   "metadata": {},
   "source": [
    "### Question 3\n",
    "\n",
    "Write a function called \"pacific\" that takes in three floats values g1, g2, and g3 (they are grades).\n",
    "This function determines if the student did well on a test\n",
    "It returns true if there are three \"passes\" and at least one \"A\". Otherwise return false.\n",
    "\n",
    "- A grade is considered \"pass\" when it is at least 50\n",
    "- A grade is considered an \"A\" at least 80\n",
    "\n",
    "```\n",
    "pacific(40,50,50) returns false\n",
    "pacific(50,50,50) returns false\n",
    "pacific(50,50,60) returns false\n",
    "pacific(50,80,50) returns true\n",
    "pacific(50,80,40) returns false\n",
    "```"
   ]
  },
  {
   "cell_type": "code",
   "execution_count": 5,
   "id": "manufactured-corporation",
   "metadata": {},
   "outputs": [],
   "source": [
    "def pacific(g1: float, g2: float, g3: float) -> bool:\n",
    "    \"\"\"\n",
    "    (float, float, float) -> bool\n",
    "\n",
    "    g>=50 means pass\n",
    "    g>= 80 means A\n",
    "    True if 3 pass and 1 A\n",
    "    Otherwise return False\n",
    "    \"\"\"\n",
    "    a = g1 or g2 or g3 >= 80\n",
    "    \n",
    "    \n",
    "    # (g1 or g2 or g3 >= 80) and (g1 and g2 and g3 >= 50)\n",
    "\n",
    "    passing = (g1 >= 50 and g2 >= 50 and g3 >= 50)\n",
    "    one_a = (g1 >= 80 or g2 >= 80 or g3 >= 80)\n",
    "    \n",
    "    \n",
    "    return passing and one_a\n",
    "\n",
    "def pacific(g1,g2,g3):\n",
    "    return (g1>=50) and (g2>=50) and (g3>=50)) and ((g1>=80) or (g2>=80) or (g3>=80)\n",
    "                                                    \n",
    "    if ((g1>=50) and (g2>=50) and (g3>=50)) and ((g1>=80) or (g2>=80) or (g3>=80)):\n",
    "        return True\n",
    "    else:\n",
    "        return False\n"
   ]
  },
  {
   "cell_type": "code",
   "execution_count": 6,
   "id": "smart-isaac",
   "metadata": {},
   "outputs": [
    {
     "data": {
      "text/plain": [
       "0"
      ]
     },
     "execution_count": 6,
     "metadata": {},
     "output_type": "execute_result"
    }
   ],
   "source": [
    "bool(5.5), bool(0)\n",
    "\n",
    "5.5 and 0"
   ]
  },
  {
   "cell_type": "markdown",
   "id": "emerging-establishment",
   "metadata": {},
   "source": [
    "### Question 4\n",
    "\n",
    "Write a function called \"arctic\" that takes in an integer n that is **6 digits or 4 digits**\n",
    "Return true if this integer is a palindrome\n",
    "\n",
    "A palindrome is a number or a string such that when you reverse it, it is the same as the original\n",
    "\n",
    "You cannot convert into a string. Zero marks if you do so.\n",
    "\n",
    "\n",
    "```\n",
    "artic(1001)\n",
    "True\n",
    "\n",
    "artic(100001) \n",
    "True\n",
    "\n",
    "arctic(101001) \n",
    "False (not a palindrome)\n",
    "\n",
    "arctic(10101) \n",
    "False (because it is 5-digits)\n",
    "```"
   ]
  },
  {
   "cell_type": "code",
   "execution_count": 7,
   "id": "saved-summer",
   "metadata": {},
   "outputs": [],
   "source": [
    "def arctic(n):\n",
    "    \"\"\"\n",
    "    (int) -> bool\n",
    "    \"\"\"\n",
    "    palindrome = False\n",
    "    n = abs(int(n))\n",
    "    length = math.floor(math.log(n, 10 )+1)\n",
    "    \n",
    "    if n > 999 and n < 10000:\n",
    "        n1 = n % 10000 // 1000\n",
    "        n2 = n % 1000 // 100\n",
    "        n3 = n % 100 // 10\n",
    "        n4 = n % 10\n",
    "        \n",
    "        if (n1 == n4 and n2 == n3):\n",
    "            palindrome = True\n",
    "        \n",
    "    if length == 6:\n",
    "        n1 = n % 1000000//100000\n",
    "        n2 = n % 100000 // 10000\n",
    "        n3 = n % 10000 // 1000\n",
    "        n4 = n % 1000 // 100\n",
    "        n5 = n % 100 // 10\n",
    "        n6 = n % 10\n",
    "        \n",
    "        if (n1 == n6 and n2 == n5 and n3 == n4):\n",
    "            palindrome = True\n",
    "\n",
    "    return palindrome\n"
   ]
  },
  {
   "cell_type": "code",
   "execution_count": 15,
   "id": "rational-occurrence",
   "metadata": {},
   "outputs": [
    {
     "data": {
      "text/plain": [
       "1"
      ]
     },
     "execution_count": 15,
     "metadata": {},
     "output_type": "execute_result"
    }
   ],
   "source": [
    "n = 1234\n",
    "n1 = n % 10000 // 1000\n",
    "n1"
   ]
  },
  {
   "cell_type": "code",
   "execution_count": 17,
   "id": "spread-coaching",
   "metadata": {},
   "outputs": [
    {
     "data": {
      "text/plain": [
       "2"
      ]
     },
     "execution_count": 17,
     "metadata": {},
     "output_type": "execute_result"
    }
   ],
   "source": [
    "n2 = n % 1000 // 100\n",
    "n2"
   ]
  },
  {
   "cell_type": "code",
   "execution_count": 27,
   "id": "practical-incentive",
   "metadata": {},
   "outputs": [],
   "source": [
    "def pattern_to_stars(s,p):\n",
    "    length = len(p)\n",
    "    count = 0\n",
    "    finish = 0\n",
    "        \n",
    "    while finish == 0:\n",
    "        i = s.find(p)\n",
    "        if  i == -1:\n",
    "            finish =1\n",
    "        if i >=0:\n",
    "            count += 1\n",
    "            s = s[:i] + count*\"*\" + s[i+length:]\n",
    "            \n",
    "    return s\n"
   ]
  },
  {
   "cell_type": "code",
   "execution_count": 28,
   "id": "italian-myanmar",
   "metadata": {},
   "outputs": [
    {
     "data": {
      "text/plain": [
       "'12*45'"
      ]
     },
     "execution_count": 28,
     "metadata": {},
     "output_type": "execute_result"
    }
   ],
   "source": [
    "pattern_to_stars(\"123345\", \"33\")"
   ]
  },
  {
   "cell_type": "code",
   "execution_count": null,
   "id": "parliamentary-tsunami",
   "metadata": {},
   "outputs": [],
   "source": []
  }
 ],
 "metadata": {
  "kernelspec": {
   "display_name": "Python 3",
   "language": "python",
   "name": "python3"
  },
  "language_info": {
   "codemirror_mode": {
    "name": "ipython",
    "version": 3
   },
   "file_extension": ".py",
   "mimetype": "text/x-python",
   "name": "python",
   "nbconvert_exporter": "python",
   "pygments_lexer": "ipython3",
   "version": "3.8.8"
  }
 },
 "nbformat": 4,
 "nbformat_minor": 5
}
