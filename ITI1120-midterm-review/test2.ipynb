{
 "cells": [
  {
   "cell_type": "markdown",
   "id": "listed-phrase",
   "metadata": {},
   "source": [
    "# Part 2\n",
    "You cannot use any of the following\n",
    "- replace method from str module\n",
    "- sets\n",
    "- dictionaries\n",
    "- global variables in the body of your functions\n",
    "- keyword break"
   ]
  },
  {
   "cell_type": "markdown",
   "id": "guided-samba",
   "metadata": {},
   "source": [
    "## Question 1\n",
    "\n",
    "See Midterm 2 Workshop"
   ]
  },
  {
   "cell_type": "markdown",
   "id": "selected-siemens",
   "metadata": {},
   "source": [
    "## Question 2\n",
    "\n",
    "Precondition: p is not an empty string and all letters are lower-case\n",
    "\n",
    "Given a string s and another string p the function returns a new string where\n",
    "the first occurrence of p in s is replaced with one star, the second occurrence with two stars\n",
    "and so on.\n",
    "\n",
    "You may assume that no two patterns p in s overlap in s. Example:\n",
    "p=\"aa\" s=\"aaab\" cannot happen since \"aa\" pattern in the first two positions\n",
    "overlaps with \"aa\" pattern in the next two positions in s\n",
    "\n",
    "You CANNOT use the replace method from str module.\n",
    "Using that method will result in receiving zero for this function.\n",
    "\n",
    "**Hints:**\n",
    "- slicing may be helpful in this question\n",
    "- it may be easier to solve this problem with a while loop\n",
    "\n",
    "```\n",
    "pattern_to_stars(\"trabsabtt\", \"ab\")\n",
    "'tr*s**tt'\n",
    "\n",
    "pattern_to_stars(\"today123is123nice123d\", '123')\n",
    "'today*is**nice***d'\n",
    "\n",
    "pattern_to_stars(\"1a2b3\", '123')\n",
    "'1a2b3'\n",
    "\n",
    "pattern_to_stars(\"chipchip\", 'chip')\n",
    "'***'\n",
    "\n",
    "pattern_to_stars('', 'chip')\n",
    "''\n",
    "```"
   ]
  },
  {
   "cell_type": "code",
   "execution_count": 11,
   "id": "recovered-blogger",
   "metadata": {},
   "outputs": [],
   "source": [
    "def pattern_to_stars(s, p):  # 10 points\n",
    "    i = 0\n",
    "    count = 1    \n",
    "    string = \"\"\n",
    "    \n",
    "    while i < len(s):\n",
    "        if s[i:i+len(p)] == p:\n",
    "            string += \"*\"*count\n",
    "            count += 1\n",
    "            i += len(p)\n",
    "        else:\n",
    "            string += s[i]\n",
    "            i += 1\n",
    "\n",
    "    return string\n",
    "\n",
    "\n",
    "print(pattern_to_stars(\"abc123abc123\", \"123\"))\n",
    "\n",
    "\n",
    "def pattern_to_stars2():\n",
    "    length_p = len(p)\n",
    "    # print(\"Length of p = \", length_p, end=\"\\n\\n\")\n",
    "    count = 0\n",
    "\n",
    "    finish = 0\n",
    "    while finish == 0:\n",
    "        # find the position of p\n",
    "        i = s.find(p)\n",
    "        # if not found\n",
    "        if i == -1:\n",
    "            # print(\"No longer found \", p, \"(EXIT)\")\n",
    "            finish = 1\n",
    "        # if found\n",
    "        if i >= 0:\n",
    "            count += 1\n",
    "            # print(\"Found \", p, \" at \", i)\n",
    "            # print(\"Count = \", count)\n",
    "            s = s[:i] + count*\"*\" + s[i + length_p:]\n",
    "            # print(\"\\t>>>\", s)\n",
    "            \n",
    "    return s\n",
    "\n",
    "\n",
    "def pattern_to_stars3(s,p):\n",
    "  lenp = len(p)\n",
    "  lens = len(s)\n",
    "  s2 = \"\"\n",
    "  star = \"*\" * lenp\n",
    "  for x in range (0,lens):\n",
    "    if (s[x:lenp + x]) == p:\n",
    "      s2 += star\n",
    "    else:\n",
    "      s2 += s[x:lenp+x-1]\n",
    "  print(s2)\n",
    "\n",
    "  \n",
    "pattern_to_stars3(\"13332345\", \"333\")"
   ]
  },
  {
   "cell_type": "code",
   "execution_count": 12,
   "id": "civil-yesterday",
   "metadata": {},
   "outputs": [],
   "source": [
    "def pattern_to_stars4(s,p):\n",
    "    count=1\n",
    "    sf=''\n",
    "    for x in s:\n",
    "        sf=sf+x\n",
    "\n",
    "        if p in sf:\n",
    "            sf=sf.strip(p)\n",
    "            sf=sf+(\"*\"*count)\n",
    "            count=count+1\n",
    "\n",
    "    print(sf)\n"
   ]
  },
  {
   "cell_type": "markdown",
   "id": "classified-meaning",
   "metadata": {},
   "source": [
    "## Question 4\n",
    "\n",
    "You should code here a part where your program keeps on asking\n",
    "the user for \"A\" or \"B\" until the user finally enters it. \n",
    "\n",
    "Your solution should accept lower case and upper case A or B and it should remove any extra white space."
   ]
  },
  {
   "cell_type": "code",
   "execution_count": null,
   "id": "bored-electricity",
   "metadata": {},
   "outputs": [],
   "source": [
    "def main():\n",
    "    pass"
   ]
  },
  {
   "cell_type": "code",
   "execution_count": 7,
   "id": "effective-bishop",
   "metadata": {},
   "outputs": [
    {
     "name": "stdout",
     "output_type": "stream",
     "text": [
      "2\n",
      "3\n",
      "4\n",
      "5\n"
     ]
    }
   ],
   "source": [
    "\n",
    "i = 1\n",
    "while i < 5:\n",
    "    i += 1\n",
    "    print(i)"
   ]
  },
  {
   "cell_type": "code",
   "execution_count": 13,
   "id": "surprising-weekend",
   "metadata": {},
   "outputs": [
    {
     "data": {
      "text/plain": [
       "['__add__',\n",
       " '__class__',\n",
       " '__contains__',\n",
       " '__delattr__',\n",
       " '__dir__',\n",
       " '__doc__',\n",
       " '__eq__',\n",
       " '__format__',\n",
       " '__ge__',\n",
       " '__getattribute__',\n",
       " '__getitem__',\n",
       " '__getnewargs__',\n",
       " '__gt__',\n",
       " '__hash__',\n",
       " '__init__',\n",
       " '__init_subclass__',\n",
       " '__iter__',\n",
       " '__le__',\n",
       " '__len__',\n",
       " '__lt__',\n",
       " '__mod__',\n",
       " '__mul__',\n",
       " '__ne__',\n",
       " '__new__',\n",
       " '__reduce__',\n",
       " '__reduce_ex__',\n",
       " '__repr__',\n",
       " '__rmod__',\n",
       " '__rmul__',\n",
       " '__setattr__',\n",
       " '__sizeof__',\n",
       " '__str__',\n",
       " '__subclasshook__',\n",
       " 'capitalize',\n",
       " 'casefold',\n",
       " 'center',\n",
       " 'count',\n",
       " 'encode',\n",
       " 'endswith',\n",
       " 'expandtabs',\n",
       " 'find',\n",
       " 'format',\n",
       " 'format_map',\n",
       " 'index',\n",
       " 'isalnum',\n",
       " 'isalpha',\n",
       " 'isascii',\n",
       " 'isdecimal',\n",
       " 'isdigit',\n",
       " 'isidentifier',\n",
       " 'islower',\n",
       " 'isnumeric',\n",
       " 'isprintable',\n",
       " 'isspace',\n",
       " 'istitle',\n",
       " 'isupper',\n",
       " 'join',\n",
       " 'ljust',\n",
       " 'lower',\n",
       " 'lstrip',\n",
       " 'maketrans',\n",
       " 'partition',\n",
       " 'replace',\n",
       " 'rfind',\n",
       " 'rindex',\n",
       " 'rjust',\n",
       " 'rpartition',\n",
       " 'rsplit',\n",
       " 'rstrip',\n",
       " 'split',\n",
       " 'splitlines',\n",
       " 'startswith',\n",
       " 'strip',\n",
       " 'swapcase',\n",
       " 'title',\n",
       " 'translate',\n",
       " 'upper',\n",
       " 'zfill']"
      ]
     },
     "execution_count": 13,
     "metadata": {},
     "output_type": "execute_result"
    }
   ],
   "source": [
    "dir(str)"
   ]
  },
  {
   "cell_type": "code",
   "execution_count": 18,
   "id": "restricted-metabolism",
   "metadata": {},
   "outputs": [
    {
     "data": {
      "text/plain": [
       "'.a.'"
      ]
     },
     "execution_count": 18,
     "metadata": {},
     "output_type": "execute_result"
    }
   ],
   "source": [
    "\"a.a.\".lstrip(\"a\")"
   ]
  },
  {
   "cell_type": "code",
   "execution_count": null,
   "id": "indian-albania",
   "metadata": {},
   "outputs": [],
   "source": []
  }
 ],
 "metadata": {
  "kernelspec": {
   "display_name": "Python 3",
   "language": "python",
   "name": "python3"
  },
  "language_info": {
   "codemirror_mode": {
    "name": "ipython",
    "version": 3
   },
   "file_extension": ".py",
   "mimetype": "text/x-python",
   "name": "python",
   "nbconvert_exporter": "python",
   "pygments_lexer": "ipython3",
   "version": "3.8.8"
  }
 },
 "nbformat": 4,
 "nbformat_minor": 5
}
