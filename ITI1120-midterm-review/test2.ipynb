{
 "cells": [
  {
   "cell_type": "markdown",
   "id": "looking-arthritis",
   "metadata": {},
   "source": [
    "# Part 2\n",
    "You cannot use any of the following\n",
    "- replace method from str module\n",
    "- sets\n",
    "- dictionaries\n",
    "- global variables in the body of your functions\n",
    "- keyword break"
   ]
  },
  {
   "cell_type": "markdown",
   "id": "blocked-cliff",
   "metadata": {},
   "source": [
    "## Question 1\n",
    "\n",
    "The function returns a new list where for every pair of consecutive elements in l\n",
    "if both are odd or both are even then the sum of the two elements is added to the new list\n",
    "otherwise zero is added to the new list. For example, in a list l=[1, 7, 5, 4, 12],\n",
    "1 and 7 are both odd, so we add their sum, 8, to the new list\n",
    "7 and 5 are both odd, so we add their sum, 12, to the list\n",
    "5 and 4 are neither both odd nor both even, so we add zero to the list\n",
    "4 and 12 are both even, so we add their sum, 16,  to the list.\n",
    "Thus the function returns the list [8, 12, 0, 16]\n",
    "\n",
    "If l has at most 1 element, then a copy of list l is returned\n",
    "\n",
    "```\n",
    "list_work([1, 7, 5, 4, 12, -33, 6])\n",
    "[8, 12, 0, 16, 0, 0]\n",
    "\n",
    "list_work([1])\n",
    "[1]\n",
    "\n",
    "list_work([])\n",
    "[]\n",
    "\n",
    "list_work([1,2,3,4,5])\n",
    "[0, 0, 0, 0]\n",
    "\n",
    "list_work([100,20,30])\n",
    "[120, 50]\n",
    "```"
   ]
  },
  {
   "cell_type": "code",
   "execution_count": null,
   "id": "coupled-moldova",
   "metadata": {},
   "outputs": [],
   "source": [
    "def list_work(l):\n",
    "    pass"
   ]
  },
  {
   "cell_type": "markdown",
   "id": "scientific-termination",
   "metadata": {},
   "source": [
    "## Question 2\n",
    "\n",
    "Precondition: p is not an empty string and all letters are lower-case\n",
    "\n",
    "Given a string s and another string p the function returns a new string where\n",
    "the first occurrence of p in s is replaced with one star, the second occurrence with two stars\n",
    "and so on.\n",
    "\n",
    "You may assume that no two patterns p in s overlap in s. Example:\n",
    "p=\"aa\" s=\"aaab\" cannot happen since \"aa\" pattern in the first two positions\n",
    "overlaps with \"aa\" pattern in the next two positions in s\n",
    "\n",
    "You CANNOT use the replace method from str module.\n",
    "Using that method will result in receiving zero for this function.\n",
    "\n",
    "**Hints:**\n",
    "- slicing may be helpful in this question\n",
    "- it may be easier to solve this problem with a while loop\n",
    "\n",
    "```\n",
    "pattern_to_stars(\"trabsabtt\", \"ab\")\n",
    "'tr*s**tt'\n",
    "\n",
    "pattern_to_stars(\"today123is123nice123d\", '123')\n",
    "'today*is**nice***d'\n",
    "\n",
    "pattern_to_stars(\"1a2b3\", '123')\n",
    "'1a2b3'\n",
    "\n",
    "pattern_to_stars(\"chipchip\", 'chip')\n",
    "'***'\n",
    "\n",
    "pattern_to_stars('', 'chip')\n",
    "''\n",
    "```"
   ]
  },
  {
   "cell_type": "code",
   "execution_count": null,
   "id": "traditional-mortality",
   "metadata": {},
   "outputs": [],
   "source": [
    "def pattern_to_stars(s, p):  # 10 points\n",
    "    \"\"\"\n",
    "    (str, str)->str\n",
    "\n",
    "\n",
    "    \"\"\"\n",
    "    pass"
   ]
  },
  {
   "cell_type": "markdown",
   "id": "retired-religion",
   "metadata": {},
   "source": [
    "## Question 3\n",
    "\n",
    "Precondition: s string that looks like a sequence in integers where\n",
    "every pair of consecutive integers is separated by a comma followed by a space or a space\n",
    "\n",
    "More preconditions: s has at least one substring that looks like an integer\n",
    "\n",
    "Returns a list of integers from s\n",
    "\n",
    "```\n",
    "get_list_ofint(\"10 22, 7 0 -5, 1\")\n",
    "[10, 22, 7, 0, -5, 1]\n",
    "\n",
    "get_list_ofint(\"231, -5, 12\")\n",
    "[231, -5, 12]\n",
    "\n",
    "get_list_ofint(\"231 -5 -7\")\n",
    "[231, -5, -7]\n",
    "\n",
    "get_list_ofint(\"-7,\")\n",
    "[-7]\n",
    "```"
   ]
  },
  {
   "cell_type": "code",
   "execution_count": null,
   "id": "laughing-addition",
   "metadata": {},
   "outputs": [],
   "source": [
    "def get_list_ofint(s):  # 5 points\n",
    "    \"\"\"\n",
    "    (str) -> list of int\n",
    "    \"\"\"\n",
    "    pass"
   ]
  },
  {
   "cell_type": "markdown",
   "id": "configured-dollar",
   "metadata": {},
   "source": [
    "## Question 4\n",
    "\n",
    "You should code here a part where your program keeps on asking\n",
    "the user for \"A\" or \"B\" until the user finally enters it. \n",
    "\n",
    "Your solution should accept lower case and upper case A or B and it should remove any extra white space."
   ]
  },
  {
   "cell_type": "code",
   "execution_count": null,
   "id": "incomplete-midwest",
   "metadata": {},
   "outputs": [
    {
     "name": "stdout",
     "output_type": "stream",
     "text": [
      "Enter A or B to choose one of the following two options:\n",
      "\n",
      "A: Would work with numbers?\n",
      "B: Would like to replace a pattern with stars?\n",
      "\n"
     ]
    },
    {
     "name": "stdin",
     "output_type": "stream",
     "text": [
      "Enter A or B (lower or upper case accepted):  t\n"
     ]
    },
    {
     "name": "stdout",
     "output_type": "stream",
     "text": [
      "Invalid input\n"
     ]
    }
   ],
   "source": [
    "def main():\n",
    "    pass\n",
    "\n",
    "print(\"Enter A or B to choose one of the following two options:\\n\")\n",
    "print(\"A: Would work with numbers?\")\n",
    "print(\"B: Would like to replace a pattern with stars?\\n\")\n",
    "\n",
    "answer = input(\"Enter A or B (lower or upper case accepted): \").strip().lower()\n",
    "\n",
    "while answer != \"a\" and answer != \"b\":\n",
    "    print(\"Invalid input\")\n",
    "    answer = input(\"Enter A or B (lower or upper case accepted): \").strip().lower()\n",
    "    \n",
    "while True:\n",
    "    answer = input(\"Enter A or B (lower or upper case accepted): \").strip().lower()\n",
    "    if answer == 'a' or answer == 'b':\n",
    "        break"
   ]
  },
  {
   "cell_type": "code",
   "execution_count": null,
   "id": "outstanding-huntington",
   "metadata": {},
   "outputs": [],
   "source": []
  }
 ],
 "metadata": {
  "kernelspec": {
   "display_name": "Python 3",
   "language": "python",
   "name": "python3"
  },
  "language_info": {
   "codemirror_mode": {
    "name": "ipython",
    "version": 3
   },
   "file_extension": ".py",
   "mimetype": "text/x-python",
   "name": "python",
   "nbconvert_exporter": "python",
   "pygments_lexer": "ipython3",
   "version": "3.8.8"
  }
 },
 "nbformat": 4,
 "nbformat_minor": 5
}
