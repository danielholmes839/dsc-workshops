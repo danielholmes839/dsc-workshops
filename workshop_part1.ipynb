{
 "cells": [
  {
   "cell_type": "markdown",
   "id": "regulated-boundary",
   "metadata": {},
   "source": [
    "# **Google DSC Python Workshop!**\n",
    "\n",
    "## Part 1\n",
    "- Input/output\n",
    "- Variables\n",
    "- Arithmetic\n",
    "- Relational operators\n",
    "- Boolean operators\n",
    "- String operators\n",
    "- If/else\n",
    "- **Practice Problem #1!**"
   ]
  },
  {
   "cell_type": "code",
   "execution_count": 1,
   "id": "reverse-republican",
   "metadata": {},
   "outputs": [
    {
     "name": "stdout",
     "output_type": "stream",
     "text": [
      "Hello World!\n"
     ]
    }
   ],
   "source": [
    "print(\"Hello World!\")"
   ]
  },
  {
   "cell_type": "code",
   "execution_count": null,
   "id": "worthy-damage",
   "metadata": {},
   "outputs": [],
   "source": [
    "name = input(\"Please enter your name: \")\n",
    "print(\"Hello \" + name + \"!\")"
   ]
  },
  {
   "cell_type": "markdown",
   "id": "accessory-simpson",
   "metadata": {},
   "source": [
    "## Variables"
   ]
  },
  {
   "cell_type": "code",
   "execution_count": 2,
   "id": "binary-helen",
   "metadata": {},
   "outputs": [],
   "source": [
    "a = 5 # Integers ... -2, -1, 0, 1, 2, 3 ..."
   ]
  },
  {
   "cell_type": "code",
   "execution_count": null,
   "id": "accompanied-mailing",
   "metadata": {},
   "outputs": [],
   "source": [
    "5 = a # This does not work!"
   ]
  },
  {
   "cell_type": "code",
   "execution_count": 3,
   "id": "yellow-absence",
   "metadata": {},
   "outputs": [
    {
     "data": {
      "text/plain": [
       "3"
      ]
     },
     "execution_count": 3,
     "metadata": {},
     "output_type": "execute_result"
    }
   ],
   "source": [
    "a = 1\n",
    "b = 2\n",
    "a + b"
   ]
  },
  {
   "cell_type": "markdown",
   "id": "official-holiday",
   "metadata": {},
   "source": [
    "## Arithmetic Operations"
   ]
  },
  {
   "cell_type": "code",
   "execution_count": 4,
   "id": "intermediate-sustainability",
   "metadata": {},
   "outputs": [
    {
     "data": {
      "text/plain": [
       "6"
      ]
     },
     "execution_count": 4,
     "metadata": {},
     "output_type": "execute_result"
    }
   ],
   "source": [
    "# Addition\n",
    "5 + 1"
   ]
  },
  {
   "cell_type": "code",
   "execution_count": 5,
   "id": "modern-steps",
   "metadata": {},
   "outputs": [
    {
     "data": {
      "text/plain": [
       "4"
      ]
     },
     "execution_count": 5,
     "metadata": {},
     "output_type": "execute_result"
    }
   ],
   "source": [
    "# Subtraction\n",
    "5 - 1"
   ]
  },
  {
   "cell_type": "code",
   "execution_count": 6,
   "id": "artistic-disney",
   "metadata": {},
   "outputs": [
    {
     "data": {
      "text/plain": [
       "15"
      ]
     },
     "execution_count": 6,
     "metadata": {},
     "output_type": "execute_result"
    }
   ],
   "source": [
    "# Multiplication\n",
    "5 * 3"
   ]
  },
  {
   "cell_type": "code",
   "execution_count": 7,
   "id": "imposed-arrival",
   "metadata": {},
   "outputs": [
    {
     "data": {
      "text/plain": [
       "2"
      ]
     },
     "execution_count": 7,
     "metadata": {},
     "output_type": "execute_result"
    }
   ],
   "source": [
    "# *Integer* division\n",
    "8 // 3"
   ]
  },
  {
   "cell_type": "code",
   "execution_count": 8,
   "id": "underlying-allen",
   "metadata": {},
   "outputs": [
    {
     "data": {
      "text/plain": [
       "2.6666666666666665"
      ]
     },
     "execution_count": 8,
     "metadata": {},
     "output_type": "execute_result"
    }
   ],
   "source": [
    "# Regular division\n",
    "8 / 3 "
   ]
  },
  {
   "cell_type": "code",
   "execution_count": 9,
   "id": "fitting-species",
   "metadata": {},
   "outputs": [
    {
     "data": {
      "text/plain": [
       "1"
      ]
     },
     "execution_count": 9,
     "metadata": {},
     "output_type": "execute_result"
    }
   ],
   "source": [
    "# Remainder\n",
    "9 % 2"
   ]
  },
  {
   "cell_type": "code",
   "execution_count": 10,
   "id": "collect-magnitude",
   "metadata": {},
   "outputs": [
    {
     "data": {
      "text/plain": [
       "256"
      ]
     },
     "execution_count": 10,
     "metadata": {},
     "output_type": "execute_result"
    }
   ],
   "source": [
    "# 2^8 exponents\n",
    "2**8"
   ]
  },
  {
   "cell_type": "code",
   "execution_count": 11,
   "id": "silver-poland",
   "metadata": {},
   "outputs": [
    {
     "data": {
      "text/plain": [
       "2"
      ]
     },
     "execution_count": 11,
     "metadata": {},
     "output_type": "execute_result"
    }
   ],
   "source": [
    "a = 1\n",
    "a += 1 # Increment -= /= *= //=\n",
    "a"
   ]
  },
  {
   "cell_type": "code",
   "execution_count": 12,
   "id": "vocational-invitation",
   "metadata": {},
   "outputs": [
    {
     "data": {
      "text/plain": [
       "1"
      ]
     },
     "execution_count": 12,
     "metadata": {},
     "output_type": "execute_result"
    }
   ],
   "source": [
    "a -= 1\n",
    "a"
   ]
  },
  {
   "cell_type": "markdown",
   "id": "toxic-exhibition",
   "metadata": {},
   "source": [
    "## Relational Operators"
   ]
  },
  {
   "cell_type": "code",
   "execution_count": 13,
   "id": "signed-lending",
   "metadata": {},
   "outputs": [
    {
     "data": {
      "text/plain": [
       "False"
      ]
     },
     "execution_count": 13,
     "metadata": {},
     "output_type": "execute_result"
    }
   ],
   "source": [
    "1 > 2 # 1 is greater than 2"
   ]
  },
  {
   "cell_type": "code",
   "execution_count": 14,
   "id": "medical-validation",
   "metadata": {},
   "outputs": [
    {
     "data": {
      "text/plain": [
       "True"
      ]
     },
     "execution_count": 14,
     "metadata": {},
     "output_type": "execute_result"
    }
   ],
   "source": [
    "1 < 2 # 1 is less than 2"
   ]
  },
  {
   "cell_type": "code",
   "execution_count": 15,
   "id": "innocent-preservation",
   "metadata": {},
   "outputs": [
    {
     "data": {
      "text/plain": [
       "True"
      ]
     },
     "execution_count": 15,
     "metadata": {},
     "output_type": "execute_result"
    }
   ],
   "source": [
    "1 == 1 # 1 is equal to 1. == not ="
   ]
  },
  {
   "cell_type": "code",
   "execution_count": 16,
   "id": "little-month",
   "metadata": {},
   "outputs": [
    {
     "data": {
      "text/plain": [
       "False"
      ]
     },
     "execution_count": 16,
     "metadata": {},
     "output_type": "execute_result"
    }
   ],
   "source": [
    "1 != 1 # 1 is not equal to 1."
   ]
  },
  {
   "cell_type": "code",
   "execution_count": 17,
   "id": "naughty-updating",
   "metadata": {},
   "outputs": [
    {
     "data": {
      "text/plain": [
       "(True, True, False, True)"
      ]
     },
     "execution_count": 17,
     "metadata": {},
     "output_type": "execute_result"
    }
   ],
   "source": [
    "# Less than or equal to, Greater than or equal to\n",
    "1 <= 2, 1 <= 1, 1 >= 2, 1 >= 1"
   ]
  },
  {
   "cell_type": "markdown",
   "id": "central-attack",
   "metadata": {},
   "source": [
    "## Boolean Operators"
   ]
  },
  {
   "cell_type": "code",
   "execution_count": 18,
   "id": "overall-apartment",
   "metadata": {},
   "outputs": [
    {
     "data": {
      "text/plain": [
       "(True, False)"
      ]
     },
     "execution_count": 18,
     "metadata": {},
     "output_type": "execute_result"
    }
   ],
   "source": [
    "True, False # Boolean values"
   ]
  },
  {
   "cell_type": "code",
   "execution_count": 19,
   "id": "widespread-leonard",
   "metadata": {},
   "outputs": [
    {
     "name": "stdout",
     "output_type": "stream",
     "text": [
      "False\n",
      "False\n",
      "False\n",
      "True\n"
     ]
    }
   ],
   "source": [
    "# And\n",
    "print(False and False) \n",
    "print(False and True)\n",
    "print(True and False) \n",
    "print(True and True)"
   ]
  },
  {
   "cell_type": "code",
   "execution_count": 20,
   "id": "japanese-tobago",
   "metadata": {},
   "outputs": [
    {
     "name": "stdout",
     "output_type": "stream",
     "text": [
      "False\n",
      "True\n",
      "True\n",
      "True\n"
     ]
    }
   ],
   "source": [
    "# Or\n",
    "print(False or False) \n",
    "print(False or True)\n",
    "print(True or False) \n",
    "print(True or True)"
   ]
  },
  {
   "cell_type": "code",
   "execution_count": 21,
   "id": "alert-height",
   "metadata": {},
   "outputs": [
    {
     "name": "stdout",
     "output_type": "stream",
     "text": [
      "True\n",
      "False\n"
     ]
    }
   ],
   "source": [
    "# Not\n",
    "print(not False)\n",
    "print(not True)"
   ]
  },
  {
   "cell_type": "markdown",
   "id": "centered-qatar",
   "metadata": {},
   "source": [
    "## String Operations"
   ]
  },
  {
   "cell_type": "code",
   "execution_count": 22,
   "id": "facial-dream",
   "metadata": {},
   "outputs": [
    {
     "data": {
      "text/plain": [
       "'hello world'"
      ]
     },
     "execution_count": 22,
     "metadata": {},
     "output_type": "execute_result"
    }
   ],
   "source": [
    "\"hello\" + \" world\""
   ]
  },
  {
   "cell_type": "code",
   "execution_count": 23,
   "id": "backed-barcelona",
   "metadata": {},
   "outputs": [
    {
     "data": {
      "text/plain": [
       "['a', 'b', 'c', 'd']"
      ]
     },
     "execution_count": 23,
     "metadata": {},
     "output_type": "execute_result"
    }
   ],
   "source": [
    "\"a,b,c,d\".split(\",\")"
   ]
  },
  {
   "cell_type": "code",
   "execution_count": 24,
   "id": "tamil-marina",
   "metadata": {},
   "outputs": [
    {
     "data": {
      "text/plain": [
       "4"
      ]
     },
     "execution_count": 24,
     "metadata": {},
     "output_type": "execute_result"
    }
   ],
   "source": [
    "len(\"1234\")"
   ]
  },
  {
   "cell_type": "code",
   "execution_count": 25,
   "id": "beneficial-integrity",
   "metadata": {},
   "outputs": [
    {
     "data": {
      "text/plain": [
       "'inserting a variable 1'"
      ]
     },
     "execution_count": 25,
     "metadata": {},
     "output_type": "execute_result"
    }
   ],
   "source": [
    "x = 1\n",
    "f\"inserting a variable {1}\""
   ]
  },
  {
   "cell_type": "code",
   "execution_count": 26,
   "id": "printable-authentication",
   "metadata": {},
   "outputs": [
    {
     "data": {
      "text/plain": [
       "'inserting an expression 4.666666666666667'"
      ]
     },
     "execution_count": 26,
     "metadata": {},
     "output_type": "execute_result"
    }
   ],
   "source": [
    "f\"inserting an expression {1 + 2 + 5 / 3}\""
   ]
  },
  {
   "cell_type": "code",
   "execution_count": 27,
   "id": "hourly-impact",
   "metadata": {},
   "outputs": [
    {
     "data": {
      "text/plain": [
       "'999999999'"
      ]
     },
     "execution_count": 27,
     "metadata": {},
     "output_type": "execute_result"
    }
   ],
   "source": [
    "\"9\"*9"
   ]
  },
  {
   "cell_type": "code",
   "execution_count": 31,
   "id": "invisible-yellow",
   "metadata": {},
   "outputs": [
    {
     "name": "stdout",
     "output_type": "stream",
     "text": [
      "something\n"
     ]
    },
    {
     "name": "stdin",
     "output_type": "stream",
     "text": [
      "input something! test\n"
     ]
    },
    {
     "name": "stdout",
     "output_type": "stream",
     "text": [
      "test\n"
     ]
    }
   ],
   "source": [
    "print(\"something\")\n",
    "print(input(\"input something!\"))"
   ]
  },
  {
   "cell_type": "markdown",
   "id": "genetic-camping",
   "metadata": {},
   "source": [
    "## If / elif (else if) / else"
   ]
  },
  {
   "cell_type": "code",
   "execution_count": 32,
   "id": "educated-logging",
   "metadata": {},
   "outputs": [
    {
     "name": "stdout",
     "output_type": "stream",
     "text": [
      "The condition was true!\n"
     ]
    }
   ],
   "source": [
    "condition = True\n",
    "\n",
    "if condition:\n",
    "    print(\"The condition was true!\")\n",
    "else:\n",
    "    print(\"The condition was false!\")"
   ]
  },
  {
   "cell_type": "code",
   "execution_count": 33,
   "id": "suspended-chile",
   "metadata": {},
   "outputs": [],
   "source": [
    "def example(condition1, condition2):\n",
    "    if condition1:\n",
    "        print(\"condition 1 was true!\")\n",
    "    elif condition2:\n",
    "        print(\"condition 2 was true! (and condition 1 was false)\")\n",
    "    else:\n",
    "        print(\"no conditions were true\")"
   ]
  },
  {
   "cell_type": "code",
   "execution_count": 34,
   "id": "large-article",
   "metadata": {},
   "outputs": [
    {
     "name": "stdout",
     "output_type": "stream",
     "text": [
      "condition 1 was true!\n"
     ]
    }
   ],
   "source": [
    "example(True, False)"
   ]
  },
  {
   "cell_type": "code",
   "execution_count": 35,
   "id": "private-jaguar",
   "metadata": {},
   "outputs": [
    {
     "name": "stdout",
     "output_type": "stream",
     "text": [
      "condition 2 was true! (and condition 1 was false)\n"
     ]
    }
   ],
   "source": [
    "example(False, True)"
   ]
  },
  {
   "cell_type": "code",
   "execution_count": 36,
   "id": "sophisticated-theme",
   "metadata": {},
   "outputs": [
    {
     "name": "stdout",
     "output_type": "stream",
     "text": [
      "condition 1 was true!\n"
     ]
    }
   ],
   "source": [
    "example(True, True) # Do both conditions execute?"
   ]
  },
  {
   "cell_type": "code",
   "execution_count": 37,
   "id": "opponent-palestine",
   "metadata": {},
   "outputs": [
    {
     "name": "stdout",
     "output_type": "stream",
     "text": [
      "no conditions were true\n"
     ]
    }
   ],
   "source": [
    "example(False, False)"
   ]
  },
  {
   "cell_type": "code",
   "execution_count": 38,
   "id": "unique-covering",
   "metadata": {},
   "outputs": [
    {
     "data": {
      "text/plain": [
       "1"
      ]
     },
     "execution_count": 38,
     "metadata": {},
     "output_type": "execute_result"
    }
   ],
   "source": [
    "def pizza_calculator(people, slices_per_person, slices_per_pizza):\n",
    "    \"\"\" Problem #1: Pizza Calculator \n",
    "    \n",
    "    Given the the number of people eating pizza, the number of slices each person will eat, and the number of slices in each pizza.\n",
    "    \n",
    "    How many pizzas do you need to order?\n",
    "    \n",
    "    --------------------------\n",
    "    Example 1: pizza_calculator(6, 2, 8)\n",
    "        people = 6\n",
    "        slices_per_person = 2\n",
    "        slices_per_pizza = 8\n",
    "\n",
    "        answer = 2\n",
    "    \n",
    "    ---------------------------\n",
    "    Example 2: pizza_calculator(4, 2, 8)\n",
    "        people = 4\n",
    "        slices_per_person = 2\n",
    "        slices_per_pizza = 8\n",
    "\n",
    "        answer = 1\n",
    "    \"\"\"\n",
    "    \n",
    "    return 1\n",
    "\n",
    "\n",
    "pizza_calculator(1, 2, 2)"
   ]
  },
  {
   "cell_type": "code",
   "execution_count": null,
   "id": "lonely-sister",
   "metadata": {},
   "outputs": [],
   "source": []
  }
 ],
 "metadata": {
  "kernelspec": {
   "display_name": "Python 3",
   "language": "python",
   "name": "python3"
  },
  "language_info": {
   "codemirror_mode": {
    "name": "ipython",
    "version": 3
   },
   "file_extension": ".py",
   "mimetype": "text/x-python",
   "name": "python",
   "nbconvert_exporter": "python",
   "pygments_lexer": "ipython3",
   "version": "3.8.8"
  }
 },
 "nbformat": 4,
 "nbformat_minor": 5
}
